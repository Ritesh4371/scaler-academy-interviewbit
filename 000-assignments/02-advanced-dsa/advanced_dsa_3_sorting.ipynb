{
 "cells": [
  {
   "cell_type": "markdown",
   "metadata": {},
   "source": [
    "# Sorting 1 - Selection sort O(n^2)"
   ]
  },
  {
   "cell_type": "code",
   "execution_count": 4,
   "metadata": {},
   "outputs": [
    {
     "data": {
      "text/plain": [
       "[64, 25, 12, 22, 11]"
      ]
     },
     "execution_count": 4,
     "metadata": {},
     "output_type": "execute_result"
    }
   ],
   "source": [
    "A = [64, 25, 12, 22, 11]\n",
    "A"
   ]
  },
  {
   "cell_type": "code",
   "execution_count": 5,
   "metadata": {},
   "outputs": [
    {
     "data": {
      "text/plain": [
       "[11, 12, 22, 25, 64]"
      ]
     },
     "execution_count": 5,
     "metadata": {},
     "output_type": "execute_result"
    }
   ],
   "source": [
    "for i in range(len(A)):\n",
    "    min_idx = i\n",
    "    for j in range(i+1, len(A)):\n",
    "        if A[j] < A[min_idx]:\n",
    "            min_idx = j\n",
    "    \n",
    "    A[i], A[min_idx] = A[min_idx], A[i]\n",
    "A"
   ]
  },
  {
   "cell_type": "markdown",
   "metadata": {},
   "source": [
    "# Sorting 1 - Bubble sort O(n^2)"
   ]
  },
  {
   "cell_type": "code",
   "execution_count": 6,
   "metadata": {},
   "outputs": [
    {
     "data": {
      "text/plain": [
       "[64, 25, 12, 22, 11]"
      ]
     },
     "execution_count": 6,
     "metadata": {},
     "output_type": "execute_result"
    }
   ],
   "source": [
    "A = [64, 25, 12, 22, 11]\n",
    "A"
   ]
  },
  {
   "cell_type": "code",
   "execution_count": 7,
   "metadata": {},
   "outputs": [
    {
     "data": {
      "text/plain": [
       "[11, 12, 22, 25, 64]"
      ]
     },
     "execution_count": 7,
     "metadata": {},
     "output_type": "execute_result"
    }
   ],
   "source": [
    "for i in range(len(A)):\n",
    "    swapped = False\n",
    "    for j in range(0, len(A) - i - 1):\n",
    "        if A[j] > A[j+1]:\n",
    "            A[j], A[j+1] = A[j+1], A[j]\n",
    "            swapped = True\n",
    "    if not swapped:\n",
    "        break\n",
    "\n",
    "A"
   ]
  },
  {
   "cell_type": "markdown",
   "metadata": {},
   "source": [
    "# Sorting 1 - Merge sort O(n logn)"
   ]
  },
  {
   "cell_type": "code",
   "execution_count": 5,
   "metadata": {},
   "outputs": [
    {
     "name": "stdout",
     "output_type": "stream",
     "text": [
      "2 [64, 25] [12, 22, 11]\n",
      "1 [64] [25]\n",
      "1 [12] [22, 11]\n",
      "1 [22] [11]\n",
      "[12, 22, 11, 64, 25]\n"
     ]
    }
   ],
   "source": [
    "def merge(left, right):\n",
    "\n",
    "    merged = []\n",
    "\n",
    "    while len(left) > 0 and len(right) > 0:\n",
    "\n",
    "        if left[0] <= right[0]:\n",
    "            merged.append(left[0])\n",
    "            left = left[1:]\n",
    "        else:\n",
    "            merged.append(right[0])\n",
    "            right = right[1:]\n",
    "\n",
    "    if len(left) > 0:\n",
    "        merged = merged + left\n",
    "    if len(right) > 0:\n",
    "        merged = merged + right\n",
    "\n",
    "    return merged\n",
    "\n",
    "def merge_sort(A):\n",
    "    mid = len(A) // 2\n",
    "\n",
    "    left = A[:mid]\n",
    "    right = A[mid:]\n",
    "\n",
    "    print(mid, left, right)\n",
    "\n",
    "    if len(left) > 1:\n",
    "        merge_sort(left)\n",
    "    if len(right) > 1:\n",
    "        merge_sort(right)\n",
    "\n",
    "    return merge(left, right)\n",
    "\n",
    "A = [64, 25, 12, 22, 11]\n",
    "\n",
    "print(merge_sort(A))"
   ]
  },
  {
   "cell_type": "markdown",
   "metadata": {},
   "source": [
    "---"
   ]
  },
  {
   "cell_type": "markdown",
   "metadata": {},
   "source": [
    "# Sorting 2 - Quick sort"
   ]
  },
  {
   "cell_type": "code",
   "execution_count": 3,
   "metadata": {},
   "outputs": [
    {
     "name": "stdout",
     "output_type": "stream",
     "text": [
      "[10, 7, 8, 9, 1, 5]\n",
      "[1, 5, 7, 8, 9, 10]\n"
     ]
    }
   ],
   "source": [
    "def partition(A, low, high):\n",
    "    pivot = A[high]\n",
    "    i = low - 1\n",
    "\n",
    "    for j in range(low, high):\n",
    "        if A[j] <= pivot:\n",
    "            i = i + 1\n",
    "            A[i], A[j] = A[j], A[i]\n",
    "    A[i + 1], A[high] = A[high], A[i + 1]\n",
    "\n",
    "    return i + 1\n",
    "\n",
    "def quick_sort(A, low, high):\n",
    "\n",
    "    if low < high:\n",
    "        pivot = partition(A, low, high)\n",
    "        quick_sort(A, low, pivot - 1)\n",
    "        quick_sort(A, pivot + 1, high)\n",
    "\n",
    "A = [10, 7, 8, 9, 1, 5]\n",
    "print(A)\n",
    "quick_sort(A, 0, len(A)-1)\n",
    "print(A)\n"
   ]
  },
  {
   "cell_type": "markdown",
   "metadata": {},
   "source": [
    "# Sorting 2 - Insertion sort"
   ]
  },
  {
   "cell_type": "code",
   "execution_count": 4,
   "metadata": {},
   "outputs": [
    {
     "name": "stdout",
     "output_type": "stream",
     "text": [
      "[64, 25, 12, 22, 11]\n",
      "[11, 12, 22, 25, 64]\n"
     ]
    }
   ],
   "source": [
    "def insertion_sort(A):\n",
    "\n",
    "    for i in range(1, len(A)):\n",
    "        key = A[i]\n",
    "        j = i - 1\n",
    "        while j >= 0 and A[j] > key:\n",
    "            A[j + 1] = A[j]\n",
    "            j -= 1\n",
    "        A[j + 1] = key\n",
    "\n",
    "    return A\n",
    "\n",
    "A = [64, 25, 12, 22, 11]\n",
    "print(A)\n",
    "print(insertion_sort(A))"
   ]
  },
  {
   "cell_type": "markdown",
   "metadata": {},
   "source": [
    "# Sorting 3 - Radix sort"
   ]
  },
  {
   "cell_type": "code",
   "execution_count": 1,
   "metadata": {},
   "outputs": [],
   "source": [
    "def counting_sort(A, exp):\n",
    "\n",
    "    n = len(A)\n",
    "    B = [0] * n\n",
    "    C = [0] * 10\n",
    "\n",
    "    for i in range(0, n):\n",
    "        index = A[i] // exp\n",
    "        C[index % 10] += 1\n",
    "\n",
    "    for i in range(1, 10):\n",
    "        C[i] += C[i - 1]\n",
    "\n",
    "    i = n - 1\n",
    "    while i >= 0:\n",
    "        index = A[i] // exp\n",
    "        B[C[index % 10] - 1] = A[i]\n",
    "        C[index % 10] -= 1\n",
    "        i -= 1\n",
    "\n",
    "    for i in range(0, n):\n",
    "        A[i] = B[i]\n",
    "\n",
    "    return A"
   ]
  },
  {
   "cell_type": "code",
   "execution_count": 2,
   "metadata": {},
   "outputs": [],
   "source": [
    "def radix_sort(A):\n",
    "\n",
    "    max_element = max(A)\n",
    "    exp = 1\n",
    "    while max_element / exp > 0:\n",
    "        A = counting_sort(A, exp)\n",
    "        exp *= 10\n",
    "    return A"
   ]
  },
  {
   "cell_type": "code",
   "execution_count": 3,
   "metadata": {},
   "outputs": [
    {
     "name": "stdout",
     "output_type": "stream",
     "text": [
      "Original array: [170, 45, 75, 90, 802, 24, 2, 66]\n",
      "Sorted array: [2, 24, 45, 66, 75, 90, 170, 802]\n"
     ]
    }
   ],
   "source": [
    "arr = [170, 45, 75, 90, 802, 24, 2, 66]\n",
    "print(\"Original array:\", arr)\n",
    "radix_sort(arr)\n",
    "print(\"Sorted array:\", arr)"
   ]
  },
  {
   "cell_type": "code",
   "execution_count": null,
   "metadata": {},
   "outputs": [],
   "source": []
  }
 ],
 "metadata": {
  "kernelspec": {
   "display_name": "venv",
   "language": "python",
   "name": "python3"
  },
  "language_info": {
   "codemirror_mode": {
    "name": "ipython",
    "version": 3
   },
   "file_extension": ".py",
   "mimetype": "text/x-python",
   "name": "python",
   "nbconvert_exporter": "python",
   "pygments_lexer": "ipython3",
   "version": "3.12.6"
  }
 },
 "nbformat": 4,
 "nbformat_minor": 2
}
