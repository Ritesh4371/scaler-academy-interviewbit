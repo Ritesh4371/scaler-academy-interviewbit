{
 "cells": [
  {
   "cell_type": "markdown",
   "metadata": {},
   "source": [
    "# 1D - Max subarray sub"
   ]
  },
  {
   "cell_type": "code",
   "execution_count": 2,
   "metadata": {},
   "outputs": [],
   "source": [
    "A = [-2, 1, -3, 4, -1, 2, 1, -5, 4]"
   ]
  },
  {
   "cell_type": "code",
   "execution_count": 13,
   "metadata": {},
   "outputs": [
    {
     "name": "stdout",
     "output_type": "stream",
     "text": [
      "-2\n"
     ]
    }
   ],
   "source": [
    "maxsum = A[0]\n",
    "print(maxsum)"
   ]
  },
  {
   "cell_type": "code",
   "execution_count": 22,
   "metadata": {},
   "outputs": [
    {
     "name": "stdout",
     "output_type": "stream",
     "text": [
      "6\n"
     ]
    }
   ],
   "source": [
    "for i in range(len(A)):\n",
    "    for j in range(i, len(A)):\n",
    "        currentsum = 0\n",
    "        k = i\n",
    "        while k <= j:\n",
    "            currentsum += A[k]\n",
    "            k += 1\n",
    "        maxsum = max(maxsum, currentsum)\n",
    "print(maxsum)"
   ]
  },
  {
   "cell_type": "code",
   "execution_count": 23,
   "metadata": {},
   "outputs": [
    {
     "name": "stdout",
     "output_type": "stream",
     "text": [
      "6\n"
     ]
    }
   ],
   "source": [
    "# carry forward\n",
    "for i in range(len(A)):\n",
    "    currentsum = 0\n",
    "    for j in range(i, len(A)):\n",
    "        currentsum += A[j]\n",
    "        maxsum = max(maxsum, currentsum)\n",
    "print(maxsum)"
   ]
  },
  {
   "cell_type": "code",
   "execution_count": 24,
   "metadata": {},
   "outputs": [
    {
     "name": "stdout",
     "output_type": "stream",
     "text": [
      "6\n"
     ]
    }
   ],
   "source": [
    "# kedane's algorithm\n",
    "maxsum = A[0]\n",
    "currentsum = 0\n",
    "\n",
    "for i in range(len(A)):\n",
    "    currentsum += A[i]\n",
    "    maxsum = max(maxsum, currentsum)\n",
    "    if currentsum < 0:\n",
    "        currentsum = 0\n",
    "print(maxsum)"
   ]
  },
  {
   "cell_type": "markdown",
   "metadata": {},
   "source": [
    "# 1D - Zero queries array"
   ]
  },
  {
   "cell_type": "code",
   "execution_count": 43,
   "metadata": {},
   "outputs": [],
   "source": [
    "N = 8\n",
    "Q = [\n",
    "    (1,4,3),\n",
    "    (0,5,-1),\n",
    "    (2,2,4),\n",
    "    (4,6,3)\n",
    "]\n",
    "current = 0\n",
    "A = [0] * (N + 1)\n",
    "B = [0] * (N)"
   ]
  },
  {
   "cell_type": "code",
   "execution_count": 44,
   "metadata": {},
   "outputs": [
    {
     "name": "stdout",
     "output_type": "stream",
     "text": [
      "[0, 3, 0, 0, 0, -3, 0, 0, 0] 3 -3\n",
      "[-1, 3, 0, 0, 0, -3, 1, 0, 0] -1 1\n",
      "[-1, 3, 4, -4, 0, -3, 1, 0, 0] 4 -4\n",
      "[-1, 3, 4, -4, 3, -3, 1, -3, 0] 3 -3\n"
     ]
    },
    {
     "data": {
      "text/plain": [
       "[-1, 3, 4, -4, 3, -3, 1, -3, 0]"
      ]
     },
     "execution_count": 44,
     "metadata": {},
     "output_type": "execute_result"
    }
   ],
   "source": [
    "# prefix sum approach\n",
    "for i, (s, e, v) in enumerate(Q):\n",
    "    A[s] += v\n",
    "    if e + 1 < N:\n",
    "        A[e + 1] -= v\n",
    "    print(A, A[s], A[e + 1])\n",
    "A"
   ]
  },
  {
   "cell_type": "code",
   "execution_count": 38,
   "metadata": {},
   "outputs": [
    {
     "data": {
      "text/plain": [
       "[-1, 2, 6, 2, 5, 2, 3, 0]"
      ]
     },
     "execution_count": 38,
     "metadata": {},
     "output_type": "execute_result"
    }
   ],
   "source": [
    "for k in range(N):\n",
    "    current += A[k]\n",
    "    B[k] = current\n",
    "B"
   ]
  },
  {
   "cell_type": "markdown",
   "metadata": {},
   "source": [
    "# 1D - Rain water trapped in between buildings"
   ]
  },
  {
   "cell_type": "code",
   "execution_count": 46,
   "metadata": {},
   "outputs": [
    {
     "data": {
      "text/plain": [
       "[2, 1, 3, 2, 1, 2, 4, 3, 2, 1, 3, 1]"
      ]
     },
     "execution_count": 46,
     "metadata": {},
     "output_type": "execute_result"
    }
   ],
   "source": [
    "A = [2, 1, 3, 2, 1, 2, 4, 3, 2, 1, 3, 1]\n",
    "A"
   ]
  },
  {
   "cell_type": "code",
   "execution_count": 49,
   "metadata": {},
   "outputs": [
    {
     "data": {
      "text/plain": [
       "8"
      ]
     },
     "execution_count": 49,
     "metadata": {},
     "output_type": "execute_result"
    }
   ],
   "source": [
    "# brute force\n",
    "total_water = 0\n",
    "\n",
    "for i in range(len(A)):\n",
    "    left_max = 0\n",
    "    right_max = 0\n",
    "\n",
    "    for j in range(i, -1, -1):\n",
    "        left_max = max(left_max, A[j])\n",
    "        \n",
    "    for j in range(i, len(A)):\n",
    "        right_max = max(right_max, A[j])\n",
    "\n",
    "    total_water += min(left_max, right_max) - A[i]\n",
    "\n",
    "total_water"
   ]
  },
  {
   "cell_type": "code",
   "execution_count": 50,
   "metadata": {},
   "outputs": [
    {
     "data": {
      "text/plain": [
       "8"
      ]
     },
     "execution_count": 50,
     "metadata": {},
     "output_type": "execute_result"
    }
   ],
   "source": [
    "# two pointer solution\n",
    "total_water = 0\n",
    "left_max = 0\n",
    "right_max = 0\n",
    "left = 0\n",
    "right = len(A) - 1\n",
    "\n",
    "while left < right:\n",
    "    if A[left] < A[right]:\n",
    "        if A[left] > left_max:\n",
    "            left_max = A[left]\n",
    "        else:\n",
    "            total_water += left_max - A[left]\n",
    "        left += 1\n",
    "    else:\n",
    "        if A[right] > right_max:\n",
    "            right_max = A[right]\n",
    "        else:\n",
    "            total_water += right_max - A[right]\n",
    "        right -= 1\n",
    "\n",
    "total_water"
   ]
  },
  {
   "cell_type": "markdown",
   "metadata": {},
   "source": [
    "---"
   ]
  },
  {
   "cell_type": "markdown",
   "metadata": {},
   "source": [
    "# 2D - Find K in a rowise & columnwise sorted array"
   ]
  },
  {
   "cell_type": "code",
   "execution_count": 10,
   "metadata": {},
   "outputs": [
    {
     "data": {
      "text/plain": [
       "[[10, 20, 30, 40], [15, 25, 35, 45], [27, 29, 37, 48], [32, 33, 39, 50]]"
      ]
     },
     "execution_count": 10,
     "metadata": {},
     "output_type": "execute_result"
    }
   ],
   "source": [
    "M = [\n",
    "  [10, 20, 30, 40],\n",
    "  [15, 25, 35, 45],\n",
    "  [27, 29, 37, 48],\n",
    "  [32, 33, 39, 50]\n",
    "]\n",
    "\n",
    "k = 29\n",
    "\n",
    "M"
   ]
  },
  {
   "cell_type": "code",
   "execution_count": 11,
   "metadata": {},
   "outputs": [
    {
     "name": "stdout",
     "output_type": "stream",
     "text": [
      "2 1\n"
     ]
    }
   ],
   "source": [
    "# top-right / bottom-left traversal O(N)\n",
    "n = len(M)\n",
    "m = len(M[0])\n",
    "\n",
    "r = 0\n",
    "c = m - 1\n",
    "\n",
    "while r < n and c >= 0:\n",
    "    curr = M[r][c]\n",
    "    if curr == k:\n",
    "        print(r, c)\n",
    "        break\n",
    "    elif curr > k:\n",
    "        c -= 1\n",
    "    else:\n",
    "        r += 1\n"
   ]
  },
  {
   "cell_type": "markdown",
   "metadata": {},
   "source": [
    "# 2D - Row with max number of 1s"
   ]
  },
  {
   "cell_type": "code",
   "execution_count": 28,
   "metadata": {},
   "outputs": [
    {
     "data": {
      "text/plain": [
       "[[0, 0, 0, 1], [0, 1, 1, 1], [0, 0, 1, 1], [0, 0, 0, 1]]"
      ]
     },
     "execution_count": 28,
     "metadata": {},
     "output_type": "execute_result"
    }
   ],
   "source": [
    "A = [  [0, 0, 0, 1],\n",
    "  [0, 1, 1, 1],\n",
    "  [0, 0, 1, 1],\n",
    "  [0, 0, 0, 1]\n",
    "]\n",
    "A"
   ]
  },
  {
   "cell_type": "code",
   "execution_count": 29,
   "metadata": {},
   "outputs": [
    {
     "data": {
      "text/plain": [
       "1"
      ]
     },
     "execution_count": 29,
     "metadata": {},
     "output_type": "execute_result"
    }
   ],
   "source": [
    "# binary search approach O(N * logN)\n",
    "max_row = -1\n",
    "max_1s = 0\n",
    "\n",
    "for i in range(len(A)):\n",
    "    l = 0\n",
    "    r = len(A[i]) - 1\n",
    "    while l <= r:\n",
    "        mid = (l + r) // 2\n",
    "        if A[i][mid] == 1:\n",
    "            r = mid - 1\n",
    "        else:\n",
    "            l = mid + 1\n",
    "    if len(A[i]) - l > max_1s:\n",
    "        max_1s = len(A[i]) - l\n",
    "        max_row = i\n",
    "\n",
    "max_row"
   ]
  },
  {
   "cell_type": "code",
   "execution_count": 31,
   "metadata": {},
   "outputs": [
    {
     "data": {
      "text/plain": [
       "1"
      ]
     },
     "execution_count": 31,
     "metadata": {},
     "output_type": "execute_result"
    }
   ],
   "source": [
    "# top-left / bottom-right traversal O(N)\n",
    "max_row = -1\n",
    "j = len(A[0]) - 1\n",
    "\n",
    "for i in range(len(A)):\n",
    "    while j >= 0 and A[i][j] == 1:\n",
    "        j -= 1\n",
    "        max_row = i\n",
    "max_row"
   ]
  },
  {
   "cell_type": "markdown",
   "metadata": {},
   "source": [
    "# 2D - Print boundary elements"
   ]
  },
  {
   "cell_type": "code",
   "execution_count": 32,
   "metadata": {},
   "outputs": [],
   "source": [
    "Mat = [\n",
    "  [1,  2,  3,  4],\n",
    "  [5,  6,  7,  8],\n",
    "  [9, 10, 11, 12],\n",
    "  [13,14, 15, 16]\n",
    "]\n",
    "N = 4"
   ]
  },
  {
   "cell_type": "code",
   "execution_count": 33,
   "metadata": {},
   "outputs": [
    {
     "data": {
      "text/plain": [
       "[1, 2, 3, 4, 8, 12, 16, 15, 14, 13, 9, 5]"
      ]
     },
     "execution_count": 33,
     "metadata": {},
     "output_type": "execute_result"
    }
   ],
   "source": [
    "boundary_elements = []\n",
    "\n",
    "for col in range(N):\n",
    "    boundary_elements.append(Mat[0][col])\n",
    "\n",
    "for row in range(1, N):\n",
    "    boundary_elements.append(Mat[row][N - 1])\n",
    "\n",
    "for col in range(N - 2, -1, -1):\n",
    "    boundary_elements.append(Mat[N - 1][col])   \n",
    "\n",
    "for row in range(N - 2, 0, -1):\n",
    "    boundary_elements.append(Mat[row][0])\n",
    "\n",
    "boundary_elements"
   ]
  },
  {
   "cell_type": "markdown",
   "metadata": {},
   "source": [
    "# 2D Spiral matrix - print elements in spiral order in clockwise dir"
   ]
  },
  {
   "cell_type": "code",
   "execution_count": 40,
   "metadata": {},
   "outputs": [],
   "source": [
    "Mat = [\n",
    "  [1,  2,  3,  4],\n",
    "  [5,  6,  7,  8],\n",
    "  [9, 10, 11, 12],\n",
    "  [13,14, 15, 16]\n",
    "]\n",
    "N = 4\n"
   ]
  },
  {
   "cell_type": "code",
   "execution_count": 41,
   "metadata": {},
   "outputs": [
    {
     "data": {
      "text/plain": [
       "[1, 2, 3, 4, 8, 12, 16, 15, 14, 13, 9, 5, 6, 7, 11, 10]"
      ]
     },
     "execution_count": 41,
     "metadata": {},
     "output_type": "execute_result"
    }
   ],
   "source": [
    "# iterative approach\n",
    "spiral_order = []\n",
    "top = 0\n",
    "bottom = N - 1\n",
    "left = 0\n",
    "right = N - 1\n",
    "\n",
    "while top <= bottom and left <= right:\n",
    "    for col in range(left, right + 1):\n",
    "        spiral_order.append(Mat[top][col])\n",
    "    top += 1\n",
    "\n",
    "    for row in range(top, bottom + 1):\n",
    "        spiral_order.append(Mat[row][right])\n",
    "    right -= 1\n",
    "\n",
    "    if top <= bottom:\n",
    "        for col in range(right, left - 1, -1):\n",
    "            spiral_order.append(Mat[bottom][col])\n",
    "        bottom -= 1\n",
    "\n",
    "    if left <= right:\n",
    "        for row in range(bottom, top - 1, -1):\n",
    "            spiral_order.append(Mat[row][left])\n",
    "        left += 1\n",
    "\n",
    "spiral_order\n"
   ]
  },
  {
   "cell_type": "code",
   "execution_count": 42,
   "metadata": {},
   "outputs": [],
   "source": [
    "# recursive approach\n",
    "def spiral_order_recursive(Mat, top, bottom, left, right, spiral_order):\n",
    "    if top > bottom or left > right:\n",
    "        return\n",
    "    \n",
    "    for col in range(left, right + 1):\n",
    "        spiral_order.append(Mat[top][col])\n",
    "    top += 1\n",
    "\n",
    "    for row in range(top, bottom + 1):\n",
    "        spiral_order.append(Mat[row][right])\n",
    "    right -= 1\n",
    "\n",
    "    if top <= bottom:\n",
    "        for col in range(right, left - 1, -1):\n",
    "            spiral_order.append(Mat[bottom][col])\n",
    "        bottom -= 1\n",
    "\n",
    "    if left <= right:\n",
    "        for row in range(bottom, top - 1, -1):\n",
    "            spiral_order.append(Mat[row][left])\n",
    "        left += 1\n",
    "\n",
    "    spiral_order_recursive(Mat, top, bottom, left, right, spiral_order)\n",
    "    "
   ]
  },
  {
   "cell_type": "code",
   "execution_count": 43,
   "metadata": {},
   "outputs": [
    {
     "data": {
      "text/plain": [
       "[1, 2, 3, 4, 8, 12, 16, 15, 14, 13, 9, 5, 6, 7, 11, 10]"
      ]
     },
     "execution_count": 43,
     "metadata": {},
     "output_type": "execute_result"
    }
   ],
   "source": [
    "spiral_order = []\n",
    "top = 0\n",
    "bottom = N - 1\n",
    "left = 0\n",
    "right = N - 1\n",
    "\n",
    "spiral_order_recursive(Mat, top, bottom, left, right, spiral_order)\n",
    "\n",
    "spiral_order"
   ]
  },
  {
   "cell_type": "markdown",
   "metadata": {},
   "source": [
    "# 2D - Sum of all submatrices sum"
   ]
  },
  {
   "cell_type": "code",
   "execution_count": 44,
   "metadata": {},
   "outputs": [],
   "source": [
    "A = [  \n",
    "    [1, 2],\n",
    "    [3, 4]\n",
    "]\n",
    "N = 2\n",
    "M = 2\n"
   ]
  },
  {
   "cell_type": "code",
   "execution_count": 45,
   "metadata": {},
   "outputs": [
    {
     "data": {
      "text/plain": [
       "40"
      ]
     },
     "execution_count": 45,
     "metadata": {},
     "output_type": "execute_result"
    }
   ],
   "source": [
    "total = 0\n",
    "for i in range(N):\n",
    "    for j in range(M):\n",
    "        top_left = (i + 1) * (j + 1)\n",
    "        bottom_right = (N - i) * (M - j)\n",
    "\n",
    "        total += A[i][j] * top_left * bottom_right\n",
    "\n",
    "total"
   ]
  },
  {
   "cell_type": "markdown",
   "metadata": {},
   "source": [
    "---"
   ]
  },
  {
   "cell_type": "markdown",
   "metadata": {},
   "source": [
    "# 2D - merge sorted overlapping intervals"
   ]
  },
  {
   "cell_type": "code",
   "execution_count": 1,
   "metadata": {},
   "outputs": [
    {
     "data": {
      "text/plain": [
       "[[0, 2], [1, 4], [5, 6], [6, 8], [7, 10], [8, 9], [12, 14]]"
      ]
     },
     "execution_count": 1,
     "metadata": {},
     "output_type": "execute_result"
    }
   ],
   "source": [
    "A = [\n",
    "    [0,2], [1,4], [5,6], [6,8], [7,10], [8,9], [12,14]\n",
    "]\n",
    "A"
   ]
  },
  {
   "cell_type": "code",
   "execution_count": 2,
   "metadata": {},
   "outputs": [
    {
     "name": "stdout",
     "output_type": "stream",
     "text": [
      "[0, 2]\n",
      "-> [[0, 2]]\n",
      "[1, 4]\n",
      "--> [0, 4] 4 4\n",
      "[5, 6]\n",
      "-> [[0, 4], [5, 6]]\n",
      "[6, 8]\n",
      "--> [5, 8] 8 8\n",
      "[7, 10]\n",
      "--> [5, 10] 10 10\n",
      "[8, 9]\n",
      "--> [5, 10] 10 9\n",
      "[12, 14]\n",
      "-> [[0, 4], [5, 10], [12, 14]]\n"
     ]
    },
    {
     "data": {
      "text/plain": [
       "[[0, 4], [5, 10], [12, 14]]"
      ]
     },
     "execution_count": 2,
     "metadata": {},
     "output_type": "execute_result"
    }
   ],
   "source": [
    "merged = []\n",
    "\n",
    "for i in range(len(A)):\n",
    "    print(A[i])\n",
    "    if not merged or A[i][0] > merged[-1][1]:\n",
    "        merged.append(A[i])\n",
    "        print('->',merged)\n",
    "    else:\n",
    "        merged[-1][1] = max(merged[-1][1], A[i][1])\n",
    "        print('-->', merged[-1], merged[-1][1], A[i][1])\n",
    "\n",
    "merged\n"
   ]
  },
  {
   "cell_type": "markdown",
   "metadata": {},
   "source": [
    "# 2D - Sorted set of non-overlapping intervals"
   ]
  },
  {
   "cell_type": "code",
   "execution_count": 1,
   "metadata": {},
   "outputs": [],
   "source": [
    "Intervals = [(1,3), (4,7), (10,14), (16,19), (21,24), (27,30), (32,35), (38,41), (43,50)]\n",
    "New_Interval = (12, 22)\n"
   ]
  },
  {
   "cell_type": "code",
   "execution_count": 2,
   "metadata": {},
   "outputs": [
    {
     "data": {
      "text/plain": [
       "[(1, 3), (4, 7), (10, 24), (27, 30), (32, 35), (38, 41), (43, 50)]"
      ]
     },
     "execution_count": 2,
     "metadata": {},
     "output_type": "execute_result"
    }
   ],
   "source": [
    "merged = []\n",
    "\n",
    "# add all intervals ending before New_Interval[0]\n",
    "i = 0\n",
    "while i < len(Intervals) and Intervals[i][1] < New_Interval[0]:\n",
    "    merged.append(Intervals[i])\n",
    "    i += 1\n",
    "\n",
    "# merge all overlapping intervals with new_interval\n",
    "while i < len(Intervals) and Intervals[i][0] <= New_Interval[1]:\n",
    "    New_Interval = (\n",
    "        min(New_Interval[0], Intervals[i][0]), \n",
    "        max(New_Interval[1], Intervals[i][1])\n",
    "    )\n",
    "    i += 1\n",
    "\n",
    "merged.append(New_Interval)\n",
    "\n",
    "# add remaining intervals\n",
    "while i < len(Intervals):\n",
    "    merged.append(Intervals[i])\n",
    "    i += 1\n",
    "\n",
    "merged\n"
   ]
  },
  {
   "cell_type": "markdown",
   "metadata": {},
   "source": [
    "# 1D - find first missing natural number"
   ]
  },
  {
   "cell_type": "code",
   "execution_count": 6,
   "metadata": {},
   "outputs": [
    {
     "data": {
      "text/plain": [
       "[3, 4, -1, 1]"
      ]
     },
     "execution_count": 6,
     "metadata": {},
     "output_type": "execute_result"
    }
   ],
   "source": [
    "A = [3, 4, -1, 1]\n",
    "A"
   ]
  },
  {
   "cell_type": "code",
   "execution_count": 8,
   "metadata": {},
   "outputs": [],
   "source": [
    "def first_missing_natural_num(A):\n",
    "    for i in range(len(A)):\n",
    "        if A[i] <= 0:\n",
    "            A[i] = len(A) + 2\n",
    "\n",
    "    for i in range(len(A)):\n",
    "        val = abs(A[i])\n",
    "\n",
    "        if val >= 1 and val <= len(A):\n",
    "            A[val - 1] = -abs(A[val - 1])\n",
    "\n",
    "    for i in range(len(A)):\n",
    "        if A[i] > 0:\n",
    "            return i + 1\n",
    "        \n",
    "    return len(A) + 1\n"
   ]
  },
  {
   "cell_type": "code",
   "execution_count": 10,
   "metadata": {},
   "outputs": [
    {
     "name": "stdout",
     "output_type": "stream",
     "text": [
      "Input: [3, 4, -1, 1] | First Missing Positive: 2 | Expected: 2 | PASS\n",
      "Input: [1, 2, 0] | First Missing Positive: 3 | Expected: 3 | PASS\n",
      "Input: [7, 8, 9, 11, 12] | First Missing Positive: 1 | Expected: 1 | PASS\n",
      "Input: [1] | First Missing Positive: 2 | Expected: 2 | PASS\n",
      "Input: [2] | First Missing Positive: 1 | Expected: 1 | PASS\n",
      "Input: [1, 1] | First Missing Positive: 2 | Expected: 2 | PASS\n",
      "Input: [1, 2, 3, 4, 5] | First Missing Positive: 6 | Expected: 6 | PASS\n",
      "Input: [-3, -2, -1] | First Missing Positive: 1 | Expected: 1 | PASS\n",
      "Input: [0, 2, 2, 1, 1] | First Missing Positive: 3 | Expected: 3 | PASS\n",
      "Input: [10, 9, 8, 7] | First Missing Positive: 1 | Expected: 1 | PASS\n"
     ]
    }
   ],
   "source": [
    "if __name__ == \"__main__\":\n",
    "    test_cases = [\n",
    "        ([3, 4, -1, 1], 2),\n",
    "        ([1, 2, 0], 3),\n",
    "        ([7, 8, 9, 11, 12], 1),\n",
    "        ([1], 2),\n",
    "        ([2], 1),\n",
    "        ([1, 1], 2),\n",
    "        ([1, 2, 3, 4, 5], 6),\n",
    "        ([-3, -2, -1], 1),\n",
    "        ([0, 2, 2, 1, 1], 3),\n",
    "        ([10, 9, 8, 7], 1)\n",
    "    ]\n",
    "\n",
    "    for nums, expected in test_cases:\n",
    "        result = first_missing_natural_num(nums.copy())  # Use copy to prevent modification\n",
    "        print(f\"Input: {nums} | First Missing Positive: {result} | Expected: {expected} | {'PASS' if result == expected else 'FAIL'}\")"
   ]
  },
  {
   "cell_type": "markdown",
   "metadata": {},
   "source": [
    "---"
   ]
  },
  {
   "cell_type": "markdown",
   "metadata": {},
   "source": [
    "# Bitwise op - check if a bit is set (1)"
   ]
  },
  {
   "cell_type": "code",
   "execution_count": 5,
   "metadata": {},
   "outputs": [
    {
     "name": "stdout",
     "output_type": "stream",
     "text": [
      "10 1\n"
     ]
    }
   ],
   "source": [
    "N = int(input(\"Enter N: \"))\n",
    "i = int(input(\"Enter i: \"))\n",
    "print(N, i)"
   ]
  },
  {
   "cell_type": "code",
   "execution_count": 6,
   "metadata": {},
   "outputs": [
    {
     "data": {
      "text/plain": [
       "True"
      ]
     },
     "execution_count": 6,
     "metadata": {},
     "output_type": "execute_result"
    }
   ],
   "source": [
    "N & (1 << i) != 0"
   ]
  },
  {
   "cell_type": "markdown",
   "metadata": {},
   "source": [
    "# Bitwise op - count total number of set bits in N"
   ]
  },
  {
   "cell_type": "code",
   "execution_count": 3,
   "metadata": {},
   "outputs": [
    {
     "name": "stdout",
     "output_type": "stream",
     "text": [
      "0b1100\n"
     ]
    }
   ],
   "source": [
    "N = int(input(\"Enter N: \"))\n",
    "# print binary form of N\n",
    "print(bin(N))"
   ]
  },
  {
   "cell_type": "code",
   "execution_count": 4,
   "metadata": {},
   "outputs": [
    {
     "name": "stdout",
     "output_type": "stream",
     "text": [
      "2\n"
     ]
    }
   ],
   "source": [
    "count = 0\n",
    "while N:\n",
    "    count += N & 1\n",
    "    N >>= 1\n",
    "print(count)"
   ]
  },
  {
   "cell_type": "markdown",
   "metadata": {},
   "source": [
    "# Bitwise op - unset ith bit of the number N if it is set"
   ]
  },
  {
   "cell_type": "code",
   "execution_count": 6,
   "metadata": {},
   "outputs": [
    {
     "name": "stdout",
     "output_type": "stream",
     "text": [
      "0b1100 2\n"
     ]
    }
   ],
   "source": [
    "N = int(input(\"Enter N: \"))\n",
    "i = int(input(\"Enter i: \"))\n",
    "print(bin(N), i)\n"
   ]
  },
  {
   "cell_type": "code",
   "execution_count": 7,
   "metadata": {},
   "outputs": [
    {
     "name": "stdout",
     "output_type": "stream",
     "text": [
      "0b1000\n"
     ]
    }
   ],
   "source": [
    "print(bin(N & ~(1 << i)))"
   ]
  },
  {
   "cell_type": "markdown",
   "metadata": {},
   "source": [
    "# Bitwise op - Set bits in a range"
   ]
  },
  {
   "cell_type": "code",
   "execution_count": 1,
   "metadata": {},
   "outputs": [
    {
     "name": "stdout",
     "output_type": "stream",
     "text": [
      "A = 4, B = 3, C = 2\n"
     ]
    }
   ],
   "source": [
    "A = int(input(\"Enter A: \"))\n",
    "B = int(input(\"Enter B: \"))\n",
    "C = int(input(\"Enter C: \"))\n",
    "print(\"A = {}, B = {}, C = {}\".format(A, B, C))"
   ]
  },
  {
   "cell_type": "code",
   "execution_count": 3,
   "metadata": {},
   "outputs": [
    {
     "name": "stdout",
     "output_type": "stream",
     "text": [
      "0b11100 28\n"
     ]
    }
   ],
   "source": [
    "print(bin(((1 << B) - 1) << C), ((1 << B) - 1) << C)"
   ]
  },
  {
   "cell_type": "markdown",
   "metadata": {},
   "source": [
    "# Bitwise op - Find the number that occurs once when every others do twice"
   ]
  },
  {
   "cell_type": "code",
   "execution_count": 4,
   "metadata": {},
   "outputs": [
    {
     "data": {
      "text/plain": [
       "[7, 5, 5, 1, 7, 6, 1, 6, 4]"
      ]
     },
     "execution_count": 4,
     "metadata": {},
     "output_type": "execute_result"
    }
   ],
   "source": [
    "A = [7, 5, 5, 1, 7, 6, 1, 6, 4]\n",
    "A"
   ]
  },
  {
   "cell_type": "code",
   "execution_count": 5,
   "metadata": {},
   "outputs": [
    {
     "name": "stdout",
     "output_type": "stream",
     "text": [
      "4\n"
     ]
    }
   ],
   "source": [
    "unique = 0\n",
    "for i in range(len(A)):\n",
    "    unique ^= A[i]\n",
    "print(unique)"
   ]
  },
  {
   "cell_type": "markdown",
   "metadata": {},
   "source": [
    "# Bitwise op - Find the number that occurs once when every others do thrice"
   ]
  },
  {
   "cell_type": "code",
   "execution_count": 1,
   "metadata": {},
   "outputs": [
    {
     "data": {
      "text/plain": [
       "[4, 5, 5, 4, 1, 6, 6, 4, 5, 6]"
      ]
     },
     "execution_count": 1,
     "metadata": {},
     "output_type": "execute_result"
    }
   ],
   "source": [
    "A = [4, 5, 5, 4, 1, 6, 6, 4, 5, 6]\n",
    "A"
   ]
  },
  {
   "cell_type": "code",
   "execution_count": 2,
   "metadata": {},
   "outputs": [
    {
     "name": "stdout",
     "output_type": "stream",
     "text": [
      "1\n"
     ]
    }
   ],
   "source": [
    "unique = 0\n",
    "for i in range(32):\n",
    "    bit_sum = 0\n",
    "    for n in A:\n",
    "        bit_sum += (n >> i) & 1\n",
    "    if bit_sum % 3 != 0:\n",
    "        if i == 31:\n",
    "            unique = unique - (1 << i)\n",
    "        else:\n",
    "            unique = unique | (1 << i)\n",
    "\n",
    "print(unique)"
   ]
  },
  {
   "cell_type": "code",
   "execution_count": null,
   "metadata": {},
   "outputs": [],
   "source": []
  }
 ],
 "metadata": {
  "kernelspec": {
   "display_name": "Python 3 (ipykernel)",
   "language": "python",
   "name": "python3"
  },
  "language_info": {
   "codemirror_mode": {
    "name": "ipython",
    "version": 3
   },
   "file_extension": ".py",
   "mimetype": "text/x-python",
   "name": "python",
   "nbconvert_exporter": "python",
   "pygments_lexer": "ipython3",
   "version": "3.12.6"
  }
 },
 "nbformat": 4,
 "nbformat_minor": 4
}
