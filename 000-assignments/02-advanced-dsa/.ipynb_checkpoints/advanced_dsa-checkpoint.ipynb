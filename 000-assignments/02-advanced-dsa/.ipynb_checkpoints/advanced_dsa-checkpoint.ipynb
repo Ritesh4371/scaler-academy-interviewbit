{
 "cells": [
  {
   "cell_type": "markdown",
   "metadata": {},
   "source": [
    "# 1D - Max subarray sub"
   ]
  },
  {
   "cell_type": "code",
   "execution_count": 2,
   "metadata": {},
   "outputs": [],
   "source": [
    "A = [-2, 1, -3, 4, -1, 2, 1, -5, 4]"
   ]
  },
  {
   "cell_type": "code",
   "execution_count": 13,
   "metadata": {},
   "outputs": [
    {
     "name": "stdout",
     "output_type": "stream",
     "text": [
      "-2\n"
     ]
    }
   ],
   "source": [
    "maxsum = A[0]\n",
    "print(maxsum)"
   ]
  },
  {
   "cell_type": "code",
   "execution_count": 22,
   "metadata": {},
   "outputs": [
    {
     "name": "stdout",
     "output_type": "stream",
     "text": [
      "6\n"
     ]
    }
   ],
   "source": [
    "for i in range(len(A)):\n",
    "    for j in range(i, len(A)):\n",
    "        currentsum = 0\n",
    "        k = i\n",
    "        while k <= j:\n",
    "            currentsum += A[k]\n",
    "            k += 1\n",
    "        maxsum = max(maxsum, currentsum)\n",
    "print(maxsum)"
   ]
  },
  {
   "cell_type": "code",
   "execution_count": 23,
   "metadata": {},
   "outputs": [
    {
     "name": "stdout",
     "output_type": "stream",
     "text": [
      "6\n"
     ]
    }
   ],
   "source": [
    "# carry forward\n",
    "for i in range(len(A)):\n",
    "    currentsum = 0\n",
    "    for j in range(i, len(A)):\n",
    "        currentsum += A[j]\n",
    "        maxsum = max(maxsum, currentsum)\n",
    "print(maxsum)"
   ]
  },
  {
   "cell_type": "code",
   "execution_count": 24,
   "metadata": {},
   "outputs": [
    {
     "name": "stdout",
     "output_type": "stream",
     "text": [
      "6\n"
     ]
    }
   ],
   "source": [
    "# kedane's algorithm\n",
    "maxsum = A[0]\n",
    "currentsum = 0\n",
    "\n",
    "for i in range(len(A)):\n",
    "    currentsum += A[i]\n",
    "    maxsum = max(maxsum, currentsum)\n",
    "    if currentsum < 0:\n",
    "        currentsum = 0\n",
    "print(maxsum)"
   ]
  },
  {
   "cell_type": "markdown",
   "metadata": {},
   "source": [
    "# 1D - Zero queries array"
   ]
  },
  {
   "cell_type": "code",
   "execution_count": 43,
   "metadata": {},
   "outputs": [],
   "source": [
    "N = 8\n",
    "Q = [\n",
    "    (1,4,3),\n",
    "    (0,5,-1),\n",
    "    (2,2,4),\n",
    "    (4,6,3)\n",
    "]\n",
    "current = 0\n",
    "A = [0] * (N + 1)\n",
    "B = [0] * (N)"
   ]
  },
  {
   "cell_type": "code",
   "execution_count": 44,
   "metadata": {},
   "outputs": [
    {
     "name": "stdout",
     "output_type": "stream",
     "text": [
      "[0, 3, 0, 0, 0, -3, 0, 0, 0] 3 -3\n",
      "[-1, 3, 0, 0, 0, -3, 1, 0, 0] -1 1\n",
      "[-1, 3, 4, -4, 0, -3, 1, 0, 0] 4 -4\n",
      "[-1, 3, 4, -4, 3, -3, 1, -3, 0] 3 -3\n"
     ]
    },
    {
     "data": {
      "text/plain": [
       "[-1, 3, 4, -4, 3, -3, 1, -3, 0]"
      ]
     },
     "execution_count": 44,
     "metadata": {},
     "output_type": "execute_result"
    }
   ],
   "source": [
    "# prefix sum approach\n",
    "for i, (s, e, v) in enumerate(Q):\n",
    "    A[s] += v\n",
    "    if e + 1 < N:\n",
    "        A[e + 1] -= v\n",
    "    print(A, A[s], A[e + 1])\n",
    "A"
   ]
  },
  {
   "cell_type": "code",
   "execution_count": 38,
   "metadata": {},
   "outputs": [
    {
     "data": {
      "text/plain": [
       "[-1, 2, 6, 2, 5, 2, 3, 0]"
      ]
     },
     "execution_count": 38,
     "metadata": {},
     "output_type": "execute_result"
    }
   ],
   "source": [
    "for k in range(N):\n",
    "    current += A[k]\n",
    "    B[k] = current\n",
    "B"
   ]
  },
  {
   "cell_type": "markdown",
   "metadata": {},
   "source": [
    "# 1D - Rain water trapped in between buildings"
   ]
  },
  {
   "cell_type": "code",
   "execution_count": 46,
   "metadata": {},
   "outputs": [
    {
     "data": {
      "text/plain": [
       "[2, 1, 3, 2, 1, 2, 4, 3, 2, 1, 3, 1]"
      ]
     },
     "execution_count": 46,
     "metadata": {},
     "output_type": "execute_result"
    }
   ],
   "source": [
    "A = [2, 1, 3, 2, 1, 2, 4, 3, 2, 1, 3, 1]\n",
    "A"
   ]
  },
  {
   "cell_type": "code",
   "execution_count": 49,
   "metadata": {},
   "outputs": [
    {
     "data": {
      "text/plain": [
       "8"
      ]
     },
     "execution_count": 49,
     "metadata": {},
     "output_type": "execute_result"
    }
   ],
   "source": [
    "# brute force\n",
    "total_water = 0\n",
    "\n",
    "for i in range(len(A)):\n",
    "    left_max = 0\n",
    "    right_max = 0\n",
    "\n",
    "    for j in range(i, -1, -1):\n",
    "        left_max = max(left_max, A[j])\n",
    "        \n",
    "    for j in range(i, len(A)):\n",
    "        right_max = max(right_max, A[j])\n",
    "\n",
    "    total_water += min(left_max, right_max) - A[i]\n",
    "\n",
    "total_water"
   ]
  },
  {
   "cell_type": "code",
   "execution_count": 50,
   "metadata": {},
   "outputs": [
    {
     "data": {
      "text/plain": [
       "8"
      ]
     },
     "execution_count": 50,
     "metadata": {},
     "output_type": "execute_result"
    }
   ],
   "source": [
    "# two pointer solution\n",
    "total_water = 0\n",
    "left_max = 0\n",
    "right_max = 0\n",
    "left = 0\n",
    "right = len(A) - 1\n",
    "\n",
    "while left < right:\n",
    "    if A[left] < A[right]:\n",
    "        if A[left] > left_max:\n",
    "            left_max = A[left]\n",
    "        else:\n",
    "            total_water += left_max - A[left]\n",
    "        left += 1\n",
    "    else:\n",
    "        if A[right] > right_max:\n",
    "            right_max = A[right]\n",
    "        else:\n",
    "            total_water += right_max - A[right]\n",
    "        right -= 1\n",
    "\n",
    "total_water"
   ]
  },
  {
   "cell_type": "markdown",
   "metadata": {},
   "source": [
    "---"
   ]
  },
  {
   "cell_type": "markdown",
   "metadata": {},
   "source": [
    "# 2D - Find K in a rowise & columnwise sorted array"
   ]
  },
  {
   "cell_type": "code",
   "execution_count": 10,
   "metadata": {},
   "outputs": [
    {
     "data": {
      "text/plain": [
       "[[10, 20, 30, 40], [15, 25, 35, 45], [27, 29, 37, 48], [32, 33, 39, 50]]"
      ]
     },
     "execution_count": 10,
     "metadata": {},
     "output_type": "execute_result"
    }
   ],
   "source": [
    "M = [\n",
    "  [10, 20, 30, 40],\n",
    "  [15, 25, 35, 45],\n",
    "  [27, 29, 37, 48],\n",
    "  [32, 33, 39, 50]\n",
    "]\n",
    "\n",
    "k = 29\n",
    "\n",
    "M"
   ]
  },
  {
   "cell_type": "code",
   "execution_count": 11,
   "metadata": {},
   "outputs": [
    {
     "name": "stdout",
     "output_type": "stream",
     "text": [
      "2 1\n"
     ]
    }
   ],
   "source": [
    "# top-right / bottom-left traversal O(N)\n",
    "n = len(M)\n",
    "m = len(M[0])\n",
    "\n",
    "r = 0\n",
    "c = m - 1\n",
    "\n",
    "while r < n and c >= 0:\n",
    "    curr = M[r][c]\n",
    "    if curr == k:\n",
    "        print(r, c)\n",
    "        break\n",
    "    elif curr > k:\n",
    "        c -= 1\n",
    "    else:\n",
    "        r += 1\n"
   ]
  },
  {
   "cell_type": "markdown",
   "metadata": {},
   "source": [
    "# 2D - Row with max number of 1s"
   ]
  },
  {
   "cell_type": "code",
   "execution_count": 28,
   "metadata": {},
   "outputs": [
    {
     "data": {
      "text/plain": [
       "[[0, 0, 0, 1], [0, 1, 1, 1], [0, 0, 1, 1], [0, 0, 0, 1]]"
      ]
     },
     "execution_count": 28,
     "metadata": {},
     "output_type": "execute_result"
    }
   ],
   "source": [
    "A = [  [0, 0, 0, 1],\n",
    "  [0, 1, 1, 1],\n",
    "  [0, 0, 1, 1],\n",
    "  [0, 0, 0, 1]\n",
    "]\n",
    "A"
   ]
  },
  {
   "cell_type": "code",
   "execution_count": 29,
   "metadata": {},
   "outputs": [
    {
     "data": {
      "text/plain": [
       "1"
      ]
     },
     "execution_count": 29,
     "metadata": {},
     "output_type": "execute_result"
    }
   ],
   "source": [
    "# binary search approach O(N * logN)\n",
    "max_row = -1\n",
    "max_1s = 0\n",
    "\n",
    "for i in range(len(A)):\n",
    "    l = 0\n",
    "    r = len(A[i]) - 1\n",
    "    while l <= r:\n",
    "        mid = (l + r) // 2\n",
    "        if A[i][mid] == 1:\n",
    "            r = mid - 1\n",
    "        else:\n",
    "            l = mid + 1\n",
    "    if len(A[i]) - l > max_1s:\n",
    "        max_1s = len(A[i]) - l\n",
    "        max_row = i\n",
    "\n",
    "max_row"
   ]
  },
  {
   "cell_type": "code",
   "execution_count": 31,
   "metadata": {},
   "outputs": [
    {
     "data": {
      "text/plain": [
       "1"
      ]
     },
     "execution_count": 31,
     "metadata": {},
     "output_type": "execute_result"
    }
   ],
   "source": [
    "# top-left / bottom-right traversal O(N)\n",
    "max_row = -1\n",
    "j = len(A[0]) - 1\n",
    "\n",
    "for i in range(len(A)):\n",
    "    while j >= 0 and A[i][j] == 1:\n",
    "        j -= 1\n",
    "        max_row = i\n",
    "max_row"
   ]
  },
  {
   "cell_type": "markdown",
   "metadata": {},
   "source": [
    "# 2D - Print boundary elements"
   ]
  },
  {
   "cell_type": "code",
   "execution_count": 32,
   "metadata": {},
   "outputs": [],
   "source": [
    "Mat = [\n",
    "  [1,  2,  3,  4],\n",
    "  [5,  6,  7,  8],\n",
    "  [9, 10, 11, 12],\n",
    "  [13,14, 15, 16]\n",
    "]\n",
    "N = 4"
   ]
  },
  {
   "cell_type": "code",
   "execution_count": 33,
   "metadata": {},
   "outputs": [
    {
     "data": {
      "text/plain": [
       "[1, 2, 3, 4, 8, 12, 16, 15, 14, 13, 9, 5]"
      ]
     },
     "execution_count": 33,
     "metadata": {},
     "output_type": "execute_result"
    }
   ],
   "source": [
    "boundary_elements = []\n",
    "\n",
    "for col in range(N):\n",
    "    boundary_elements.append(Mat[0][col])\n",
    "\n",
    "for row in range(1, N):\n",
    "    boundary_elements.append(Mat[row][N - 1])\n",
    "\n",
    "for col in range(N - 2, -1, -1):\n",
    "    boundary_elements.append(Mat[N - 1][col])   \n",
    "\n",
    "for row in range(N - 2, 0, -1):\n",
    "    boundary_elements.append(Mat[row][0])\n",
    "\n",
    "boundary_elements"
   ]
  },
  {
   "cell_type": "markdown",
   "metadata": {},
   "source": [
    "# 2D Spiral matrix - print elements in spiral order in clockwise dir"
   ]
  },
  {
   "cell_type": "code",
   "execution_count": 40,
   "metadata": {},
   "outputs": [],
   "source": [
    "Mat = [\n",
    "  [1,  2,  3,  4],\n",
    "  [5,  6,  7,  8],\n",
    "  [9, 10, 11, 12],\n",
    "  [13,14, 15, 16]\n",
    "]\n",
    "N = 4\n"
   ]
  },
  {
   "cell_type": "code",
   "execution_count": 41,
   "metadata": {},
   "outputs": [
    {
     "data": {
      "text/plain": [
       "[1, 2, 3, 4, 8, 12, 16, 15, 14, 13, 9, 5, 6, 7, 11, 10]"
      ]
     },
     "execution_count": 41,
     "metadata": {},
     "output_type": "execute_result"
    }
   ],
   "source": [
    "# iterative approach\n",
    "spiral_order = []\n",
    "top = 0\n",
    "bottom = N - 1\n",
    "left = 0\n",
    "right = N - 1\n",
    "\n",
    "while top <= bottom and left <= right:\n",
    "    for col in range(left, right + 1):\n",
    "        spiral_order.append(Mat[top][col])\n",
    "    top += 1\n",
    "\n",
    "    for row in range(top, bottom + 1):\n",
    "        spiral_order.append(Mat[row][right])\n",
    "    right -= 1\n",
    "\n",
    "    if top <= bottom:\n",
    "        for col in range(right, left - 1, -1):\n",
    "            spiral_order.append(Mat[bottom][col])\n",
    "        bottom -= 1\n",
    "\n",
    "    if left <= right:\n",
    "        for row in range(bottom, top - 1, -1):\n",
    "            spiral_order.append(Mat[row][left])\n",
    "        left += 1\n",
    "\n",
    "spiral_order\n"
   ]
  },
  {
   "cell_type": "code",
   "execution_count": 42,
   "metadata": {},
   "outputs": [],
   "source": [
    "# recursive approach\n",
    "def spiral_order_recursive(Mat, top, bottom, left, right, spiral_order):\n",
    "    if top > bottom or left > right:\n",
    "        return\n",
    "    \n",
    "    for col in range(left, right + 1):\n",
    "        spiral_order.append(Mat[top][col])\n",
    "    top += 1\n",
    "\n",
    "    for row in range(top, bottom + 1):\n",
    "        spiral_order.append(Mat[row][right])\n",
    "    right -= 1\n",
    "\n",
    "    if top <= bottom:\n",
    "        for col in range(right, left - 1, -1):\n",
    "            spiral_order.append(Mat[bottom][col])\n",
    "        bottom -= 1\n",
    "\n",
    "    if left <= right:\n",
    "        for row in range(bottom, top - 1, -1):\n",
    "            spiral_order.append(Mat[row][left])\n",
    "        left += 1\n",
    "\n",
    "    spiral_order_recursive(Mat, top, bottom, left, right, spiral_order)\n",
    "    "
   ]
  },
  {
   "cell_type": "code",
   "execution_count": 43,
   "metadata": {},
   "outputs": [
    {
     "data": {
      "text/plain": [
       "[1, 2, 3, 4, 8, 12, 16, 15, 14, 13, 9, 5, 6, 7, 11, 10]"
      ]
     },
     "execution_count": 43,
     "metadata": {},
     "output_type": "execute_result"
    }
   ],
   "source": [
    "spiral_order = []\n",
    "top = 0\n",
    "bottom = N - 1\n",
    "left = 0\n",
    "right = N - 1\n",
    "\n",
    "spiral_order_recursive(Mat, top, bottom, left, right, spiral_order)\n",
    "\n",
    "spiral_order"
   ]
  },
  {
   "cell_type": "markdown",
   "metadata": {},
   "source": [
    "# 2D - Sum of all submatrices sum"
   ]
  },
  {
   "cell_type": "code",
   "execution_count": 44,
   "metadata": {},
   "outputs": [],
   "source": [
    "A = [  \n",
    "    [1, 2],\n",
    "    [3, 4]\n",
    "]\n",
    "N = 2\n",
    "M = 2\n"
   ]
  },
  {
   "cell_type": "code",
   "execution_count": 45,
   "metadata": {},
   "outputs": [
    {
     "data": {
      "text/plain": [
       "40"
      ]
     },
     "execution_count": 45,
     "metadata": {},
     "output_type": "execute_result"
    }
   ],
   "source": [
    "total = 0\n",
    "for i in range(N):\n",
    "    for j in range(M):\n",
    "        top_left = (i + 1) * (j + 1)\n",
    "        bottom_right = (N - i) * (M - j)\n",
    "\n",
    "        total += A[i][j] * top_left * bottom_right\n",
    "\n",
    "total"
   ]
  },
  {
   "cell_type": "markdown",
   "metadata": {},
   "source": [
    "---"
   ]
  },
  {
   "cell_type": "markdown",
   "metadata": {},
   "source": [
    "# 2D - merge sorted overlapping intervals"
   ]
  },
  {
   "cell_type": "code",
   "execution_count": 1,
   "metadata": {},
   "outputs": [
    {
     "data": {
      "text/plain": [
       "[[0, 2], [1, 4], [5, 6], [6, 8], [7, 10], [8, 9], [12, 14]]"
      ]
     },
     "execution_count": 1,
     "metadata": {},
     "output_type": "execute_result"
    }
   ],
   "source": [
    "A = [\n",
    "    [0,2], [1,4], [5,6], [6,8], [7,10], [8,9], [12,14]\n",
    "]\n",
    "A"
   ]
  },
  {
   "cell_type": "code",
   "execution_count": 2,
   "metadata": {},
   "outputs": [
    {
     "name": "stdout",
     "output_type": "stream",
     "text": [
      "[0, 2]\n",
      "-> [[0, 2]]\n",
      "[1, 4]\n",
      "--> [0, 4] 4 4\n",
      "[5, 6]\n",
      "-> [[0, 4], [5, 6]]\n",
      "[6, 8]\n",
      "--> [5, 8] 8 8\n",
      "[7, 10]\n",
      "--> [5, 10] 10 10\n",
      "[8, 9]\n",
      "--> [5, 10] 10 9\n",
      "[12, 14]\n",
      "-> [[0, 4], [5, 10], [12, 14]]\n"
     ]
    },
    {
     "data": {
      "text/plain": [
       "[[0, 4], [5, 10], [12, 14]]"
      ]
     },
     "execution_count": 2,
     "metadata": {},
     "output_type": "execute_result"
    }
   ],
   "source": [
    "merged = []\n",
    "\n",
    "for i in range(len(A)):\n",
    "    print(A[i])\n",
    "    if not merged or A[i][0] > merged[-1][1]:\n",
    "        merged.append(A[i])\n",
    "        print('->',merged)\n",
    "    else:\n",
    "        merged[-1][1] = max(merged[-1][1], A[i][1])\n",
    "        print('-->', merged[-1], merged[-1][1], A[i][1])\n",
    "\n",
    "merged\n"
   ]
  },
  {
   "cell_type": "markdown",
   "metadata": {},
   "source": [
    "# 2D - Sorted set of non-overlapping intervals"
   ]
  },
  {
   "cell_type": "code",
   "execution_count": 1,
   "metadata": {},
   "outputs": [],
   "source": [
    "Intervals = [(1,3), (4,7), (10,14), (16,19), (21,24), (27,30), (32,35), (38,41), (43,50)]\n",
    "New_Interval = (12, 22)\n"
   ]
  },
  {
   "cell_type": "code",
   "execution_count": 2,
   "metadata": {},
   "outputs": [
    {
     "data": {
      "text/plain": [
       "[(1, 3), (4, 7), (10, 24), (27, 30), (32, 35), (38, 41), (43, 50)]"
      ]
     },
     "execution_count": 2,
     "metadata": {},
     "output_type": "execute_result"
    }
   ],
   "source": [
    "merged = []\n",
    "\n",
    "# add all intervals ending before New_Interval[0]\n",
    "i = 0\n",
    "while i < len(Intervals) and Intervals[i][1] < New_Interval[0]:\n",
    "    merged.append(Intervals[i])\n",
    "    i += 1\n",
    "\n",
    "# merge all overlapping intervals with new_interval\n",
    "while i < len(Intervals) and Intervals[i][0] <= New_Interval[1]:\n",
    "    New_Interval = (\n",
    "        min(New_Interval[0], Intervals[i][0]), \n",
    "        max(New_Interval[1], Intervals[i][1])\n",
    "    )\n",
    "    i += 1\n",
    "\n",
    "merged.append(New_Interval)\n",
    "\n",
    "# add remaining intervals\n",
    "while i < len(Intervals):\n",
    "    merged.append(Intervals[i])\n",
    "    i += 1\n",
    "\n",
    "merged\n"
   ]
  },
  {
   "cell_type": "markdown",
   "metadata": {},
   "source": [
    "# 1D - find first missing natural number"
   ]
  },
  {
   "cell_type": "code",
   "execution_count": null,
   "metadata": {},
   "outputs": [],
   "source": [
    "A = [3, 4, -1, 1]\n",
    "A"
   ]
  },
  {
   "cell_type": "code",
   "execution_count": null,
   "metadata": {},
   "outputs": [],
   "source": []
  }
 ],
 "metadata": {
  "kernelspec": {
   "display_name": "Python 3",
   "language": "python",
   "name": "python3"
  },
  "language_info": {
   "codemirror_mode": {
    "name": "ipython",
    "version": 3
   },
   "file_extension": ".py",
   "mimetype": "text/x-python",
   "name": "python",
   "nbconvert_exporter": "python",
   "pygments_lexer": "ipython3",
   "version": "3.12.6"
  }
 },
 "nbformat": 4,
 "nbformat_minor": 2
}
