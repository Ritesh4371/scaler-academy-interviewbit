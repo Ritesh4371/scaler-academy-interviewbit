{
 "cells": [
  {
   "cell_type": "markdown",
   "metadata": {},
   "source": [
    "# #1"
   ]
  },
  {
   "cell_type": "code",
   "execution_count": 14,
   "metadata": {},
   "outputs": [
    {
     "data": {
      "text/plain": [
       "[1, 4, 9, 8, 2]"
      ]
     },
     "execution_count": 14,
     "metadata": {},
     "output_type": "execute_result"
    }
   ],
   "source": [
    "a = [1,4,9,8,2]\n",
    "a"
   ]
  },
  {
   "cell_type": "code",
   "execution_count": 15,
   "metadata": {},
   "outputs": [
    {
     "name": "stdout",
     "output_type": "stream",
     "text": [
      "1 1 [1, 4, 9, 8, 2]\n",
      "8 4 [1, 4, 9, 8, 2]\n",
      "4 4 [1, 8, 9, 4, 2]\n",
      "8 2 [1, 8, 9, 4, 2]\n",
      "[1, 2, 9, 4, 8]\n",
      "3\n"
     ]
    }
   ],
   "source": [
    "i = 0\n",
    "while i < len(a):\n",
    "    if a[i] >= 1 and a[i] <= len(a):\n",
    "        exp_val = a[i]-1\n",
    "        print(a[exp_val], a[i], a)\n",
    "        if a[exp_val]!= a[i]:\n",
    "            a[exp_val], a[i] = a[i], a[exp_val]\n",
    "            continue\n",
    "    i+=1\n",
    "\n",
    "print(a)\n",
    "for i in range(len(a)):\n",
    "    if a[i] != i+1:\n",
    "        print(i+1)\n",
    "        break\n"
   ]
  },
  {
   "cell_type": "markdown",
   "metadata": {},
   "source": [
    "# #2"
   ]
  },
  {
   "cell_type": "code",
   "execution_count": 16,
   "metadata": {},
   "outputs": [
    {
     "data": {
      "text/plain": [
       "[[-1, 2, 4, 5, 9, 11],\n",
       " [1, 4, 7, 8, 10, 14],\n",
       " [3, 7, 9, 10, 12, 18],\n",
       " [6, 10, 12, 14, 16, 20],\n",
       " [11, 15, 19, 21, 24, 27],\n",
       " [18, 24, 29, 32, 34, 42]]"
      ]
     },
     "execution_count": 16,
     "metadata": {},
     "output_type": "execute_result"
    }
   ],
   "source": [
    "a = [[-1,2,4,5,9,11],[1,4,7,8,10,14],[3,7,9,10,12,18],[6,10,12,14,16,20],[11,15,19,21,24,27],[18,24,29,32,34,42]]\n",
    "a"
   ]
  },
  {
   "cell_type": "code",
   "execution_count": 21,
   "metadata": {},
   "outputs": [
    {
     "name": "stdout",
     "output_type": "stream",
     "text": [
      "found at a[ 4 ][ 1 ]\n"
     ]
    }
   ],
   "source": [
    "i = 0\n",
    "j = len(a[0])-1\n",
    "num = 15\n",
    "\n",
    "while i < len(a) and j >=0:\n",
    "    if a[i][j] == num:\n",
    "        print('found at a[', i, '][', j, ']')\n",
    "        break\n",
    "    elif a[i][j] > num:\n",
    "        j = j-1\n",
    "    else:\n",
    "        i = i+1\n"
   ]
  },
  {
   "cell_type": "markdown",
   "metadata": {},
   "source": [
    "# #3"
   ]
  },
  {
   "cell_type": "code",
   "execution_count": 22,
   "metadata": {},
   "outputs": [
    {
     "data": {
      "text/plain": [
       "[[1, 5], [8, 10], [11, 14], [15, 20], [20, 24]]"
      ]
     },
     "execution_count": 22,
     "metadata": {},
     "output_type": "execute_result"
    }
   ],
   "source": [
    "a = [[1,5],[8,10],[11,14],[15,20],[20,24]]\n",
    "a"
   ]
  },
  {
   "cell_type": "code",
   "execution_count": 28,
   "metadata": {},
   "outputs": [
    {
     "data": {
      "text/plain": [
       "[12, 22]"
      ]
     },
     "execution_count": 28,
     "metadata": {},
     "output_type": "execute_result"
    }
   ],
   "source": [
    "new_interval = [12,22]\n",
    "new_interval"
   ]
  },
  {
   "cell_type": "code",
   "execution_count": 31,
   "metadata": {},
   "outputs": [
    {
     "name": "stdout",
     "output_type": "stream",
     "text": [
      "[[1, 5], [8, 10], [11, 24]]\n"
     ]
    }
   ],
   "source": [
    "ans = []\n",
    "for i in range(len(a)):\n",
    "    if a[i][1] < new_interval[0]:\n",
    "        ans.append(a[i])\n",
    "    elif a[i][0] > new_interval[1]:\n",
    "        ans.append(new_interval)\n",
    "        new_interval = a[i]\n",
    "        for j in range(i+1, len(a)):\n",
    "            ans.append(a[j])\n",
    "        break\n",
    "    else:\n",
    "        new_interval = [min(a[i][0], new_interval[0]), max(a[i][1], new_interval[1])]\n",
    "ans.append(new_interval)\n",
    "print(ans)"
   ]
  },
  {
   "cell_type": "code",
   "execution_count": 34,
   "metadata": {},
   "outputs": [
    {
     "data": {
      "text/plain": [
       "[[1, 3], [4, 7], [10, 14], [16, 19], [21, 24], [27, 30], [32, 35]]"
      ]
     },
     "execution_count": 34,
     "metadata": {},
     "output_type": "execute_result"
    }
   ],
   "source": [
    "a = [[1,3],[4,7],[10,14],[16,19],[21,24],[27,30],[32,35]]\n",
    "a"
   ]
  },
  {
   "cell_type": "code",
   "execution_count": 35,
   "metadata": {},
   "outputs": [
    {
     "data": {
      "text/plain": [
       "[10, 22]"
      ]
     },
     "execution_count": 35,
     "metadata": {},
     "output_type": "execute_result"
    }
   ],
   "source": [
    "new_interval = [10,22]\n",
    "new_interval"
   ]
  },
  {
   "cell_type": "code",
   "execution_count": 36,
   "metadata": {},
   "outputs": [
    {
     "name": "stdout",
     "output_type": "stream",
     "text": [
      "[[1, 3], [4, 7], [10, 24], [32, 35], [27, 30]]\n"
     ]
    }
   ],
   "source": [
    "ans = []\n",
    "for i in range(len(a)):\n",
    "    if a[i][1] < new_interval[0]:\n",
    "        ans.append(a[i])\n",
    "    elif a[i][0] > new_interval[1]:\n",
    "        ans.append(new_interval)\n",
    "        new_interval = a[i]\n",
    "        for j in range(i+1, len(a)):\n",
    "            ans.append(a[j])\n",
    "        break\n",
    "    else:\n",
    "        new_interval = [min(a[i][0], new_interval[0]), max(a[i][1], new_interval[1])]\n",
    "ans.append(new_interval)\n",
    "print(ans)"
   ]
  }
 ],
 "metadata": {
  "kernelspec": {
   "display_name": ".venv",
   "language": "python",
   "name": "python3"
  },
  "language_info": {
   "codemirror_mode": {
    "name": "ipython",
    "version": 3
   },
   "file_extension": ".py",
   "mimetype": "text/x-python",
   "name": "python",
   "nbconvert_exporter": "python",
   "pygments_lexer": "ipython3",
   "version": "3.11.5"
  },
  "orig_nbformat": 4
 },
 "nbformat": 4,
 "nbformat_minor": 2
}
