{
 "cells": [
  {
   "cell_type": "markdown",
   "metadata": {},
   "source": [
    "# Math 1 - Count pairs whose sum is a multiple of m"
   ]
  },
  {
   "cell_type": "code",
   "execution_count": 6,
   "metadata": {},
   "outputs": [
    {
     "data": {
      "text/plain": [
       "[4, 3, 6, 3, 8, 12]"
      ]
     },
     "execution_count": 6,
     "metadata": {},
     "output_type": "execute_result"
    }
   ],
   "source": [
    "A = [4, 3, 6, 3, 8, 12]\n",
    "m = 6\n",
    "A"
   ]
  },
  {
   "cell_type": "code",
   "execution_count": 7,
   "metadata": {},
   "outputs": [
    {
     "data": {
      "text/plain": [
       "3"
      ]
     },
     "execution_count": 7,
     "metadata": {},
     "output_type": "execute_result"
    }
   ],
   "source": [
    "count = 0\n",
    "freq = [0] * m\n",
    "\n",
    "for num in A:\n",
    "    rem = num % m\n",
    "\n",
    "    if rem == 0:\n",
    "        pair = 0\n",
    "    else:\n",
    "        pair = m - rem\n",
    "    \n",
    "    count += freq[pair]\n",
    "    freq[rem] += 1\n",
    "\n",
    "count"
   ]
  },
  {
   "cell_type": "markdown",
   "metadata": {},
   "source": [
    "# Math 1 - GCD"
   ]
  },
  {
   "cell_type": "code",
   "execution_count": 8,
   "metadata": {},
   "outputs": [
    {
     "data": {
      "text/plain": [
       "[24, 36, 48]"
      ]
     },
     "execution_count": 8,
     "metadata": {},
     "output_type": "execute_result"
    }
   ],
   "source": [
    "A = [24, 36, 48]\n",
    "A\n"
   ]
  },
  {
   "cell_type": "code",
   "execution_count": 11,
   "metadata": {},
   "outputs": [],
   "source": [
    "def gcdf(a, b):\n",
    "    if b == 0:\n",
    "        return a\n",
    "    return gcdf(b, a % b)"
   ]
  },
  {
   "cell_type": "code",
   "execution_count": 12,
   "metadata": {},
   "outputs": [
    {
     "data": {
      "text/plain": [
       "12"
      ]
     },
     "execution_count": 12,
     "metadata": {},
     "output_type": "execute_result"
    }
   ],
   "source": [
    "gcd = abs(A[0])\n",
    "\n",
    "for i in range(1, len(A)):\n",
    "    gcd = gcdf(gcd, abs(A[i]))\n",
    "    if gcd == 1:\n",
    "        break\n",
    "\n",
    "gcd"
   ]
  },
  {
   "cell_type": "markdown",
   "metadata": {},
   "source": [
    "# Math 1 - Delete one"
   ]
  },
  {
   "cell_type": "code",
   "execution_count": 25,
   "metadata": {},
   "outputs": [
    {
     "data": {
      "text/plain": [
       "[-12, -15, -18]"
      ]
     },
     "execution_count": 25,
     "metadata": {},
     "output_type": "execute_result"
    }
   ],
   "source": [
    "A = [-12, -15, -18]\n",
    "A"
   ]
  },
  {
   "cell_type": "code",
   "execution_count": 26,
   "metadata": {},
   "outputs": [
    {
     "name": "stdout",
     "output_type": "stream",
     "text": [
      "[-12, -3, -3]\n",
      "[-3, -3, -18]\n"
     ]
    },
    {
     "data": {
      "text/plain": [
       "0"
      ]
     },
     "execution_count": 26,
     "metadata": {},
     "output_type": "execute_result"
    }
   ],
   "source": [
    "prefix_gcd = [0] * len(A)\n",
    "suffix_gcd = [0] * len(A)\n",
    "\n",
    "prefix_gcd[0] = A[0]\n",
    "for i in range(1, len(A)):\n",
    "    prefix_gcd[i] = gcdf(prefix_gcd[i - 1], A[i])\n",
    "print(prefix_gcd)\n",
    "\n",
    "suffix_gcd[len(A) - 1] = A[len(A) - 1]\n",
    "for i in range(len(A) - 2, -1, -1):\n",
    "    suffix_gcd[i] = gcdf(suffix_gcd[i + 1], A[i])\n",
    "print(suffix_gcd)\n",
    "\n",
    "max_gcd = 0\n",
    "\n",
    "for i in range(len(A)):\n",
    "    if i == 0:\n",
    "        current_gcd  = suffix_gcd[i + 1]\n",
    "    elif i == len(A) - 1:\n",
    "        current_gcd  = prefix_gcd[len(A)-2]\n",
    "    else:\n",
    "        current_gcd  = gcdf(prefix_gcd[i - 1], suffix_gcd[i + 1])\n",
    "    max_gcd = max(max_gcd, current_gcd)\n",
    "\n",
    "max_gcd"
   ]
  },
  {
   "cell_type": "code",
   "execution_count": 29,
   "metadata": {},
   "outputs": [
    {
     "data": {
      "text/plain": [
       "1"
      ]
     },
     "execution_count": 29,
     "metadata": {},
     "output_type": "execute_result"
    }
   ],
   "source": [
    "def max_gcd_after_deletion(arr):\n",
    "    \"\"\"\n",
    "    Deletes one element from the array such that the GCD of the remaining elements is maximized.\n",
    "\n",
    "    Parameters:\n",
    "    arr (list of int): The input array of integers.\n",
    "\n",
    "    Returns:\n",
    "    int: The maximum GCD achievable by deleting one element.\n",
    "    \"\"\"\n",
    "    N = len(arr)\n",
    "    if N == 1:\n",
    "        raise ValueError(\"Array must contain at least two elements to perform deletion.\")\n",
    "\n",
    "    # Initialize prefix and suffix GCD arrays\n",
    "    prefix_gcd = [0] * N\n",
    "    suffix_gcd = [0] * N\n",
    "\n",
    "    # Compute prefix GCDs\n",
    "    prefix_gcd[0] = arr[0]\n",
    "    for i in range(1, N):\n",
    "        prefix_gcd[i] = math.gcd(prefix_gcd[i-1], arr[i])\n",
    "\n",
    "    # Compute suffix GCDs\n",
    "    suffix_gcd[N-1] = arr[N-1]\n",
    "    for i in range(N-2, -1, -1):\n",
    "        suffix_gcd[i] = math.gcd(suffix_gcd[i+1], arr[i])\n",
    "\n",
    "    # Initialize the maximum GCD\n",
    "    max_gcd = 0\n",
    "\n",
    "    # Iterate through each element to find the maximum GCD after deletion\n",
    "    for i in range(N):\n",
    "        if i == 0:\n",
    "            current_gcd = suffix_gcd[1]\n",
    "        elif i == N-1:\n",
    "            current_gcd = prefix_gcd[N-2]\n",
    "        else:\n",
    "            current_gcd = math.gcd(prefix_gcd[i-1], suffix_gcd[i+1])\n",
    "        max_gcd = max(max_gcd, current_gcd)\n",
    "\n",
    "    return max_gcd\n",
    "\n",
    "\n",
    "arr = [4, 3, 6, 3, 8, 12]\n",
    "max_gcd_after_deletion(arr)"
   ]
  },
  {
   "cell_type": "markdown",
   "metadata": {},
   "source": [
    "---\n",
    "\n",
    "# Math 2 - Pascals Triangle"
   ]
  },
  {
   "cell_type": "code",
   "execution_count": 30,
   "metadata": {},
   "outputs": [
    {
     "data": {
      "text/plain": [
       "5"
      ]
     },
     "execution_count": 30,
     "metadata": {},
     "output_type": "execute_result"
    }
   ],
   "source": [
    "N = 5\n",
    "N"
   ]
  },
  {
   "cell_type": "code",
   "execution_count": 35,
   "metadata": {},
   "outputs": [
    {
     "name": "stdout",
     "output_type": "stream",
     "text": [
      "     1\n",
      "    1 1\n",
      "   1 2 1\n",
      "  1 3 3 1\n",
      " 1 4 6 4 1\n"
     ]
    }
   ],
   "source": [
    "triangle = [[1]]\n",
    "\n",
    "for i in range(1, N):\n",
    "    triangle.append([1])\n",
    "    for j in range(1, i):\n",
    "        triangle[i].append(triangle[i-1][j-1] + triangle[i-1][j])\n",
    "    triangle[i].append(1)\n",
    "\n",
    "# # print as triangle\n",
    "# for i in range(N):\n",
    "#     print(triangle[i])\n",
    "\n",
    "for i, row in enumerate(triangle):\n",
    "    print(' ' * (N - i), end='')  # Spaces for formatting\n",
    "    print(' '.join(map(str, row)))"
   ]
  },
  {
   "cell_type": "markdown",
   "metadata": {},
   "source": [
    "# Math 2 - Finding Nth column title"
   ]
  },
  {
   "cell_type": "code",
   "execution_count": 48,
   "metadata": {},
   "outputs": [
    {
     "data": {
      "text/plain": [
       "[1, 26, 27, 28, 52, 53, 702, 703]"
      ]
     },
     "execution_count": 48,
     "metadata": {},
     "output_type": "execute_result"
    }
   ],
   "source": [
    "test_cases = [1, 26, 27, 28, 52, 53, 702, 703]\n",
    "test_cases"
   ]
  },
  {
   "cell_type": "code",
   "execution_count": 52,
   "metadata": {},
   "outputs": [
    {
     "name": "stdout",
     "output_type": "stream",
     "text": [
      "1 A\n",
      "26 Z\n",
      "27 AA\n",
      "28 AB\n",
      "52 AZ\n",
      "53 BA\n",
      "702 ZZ\n",
      "703 AAA\n"
     ]
    }
   ],
   "source": [
    "for N in test_cases:\n",
    "    n = N\n",
    "    result = []\n",
    "    while N > 0:\n",
    "        N, remainder = divmod(N - 1, 26)\n",
    "        result.append(chr(65 + remainder))  # 65 is ASCII for 'A'\n",
    "    print(n, ''.join(reversed(result)))"
   ]
  },
  {
   "cell_type": "markdown",
   "metadata": {},
   "source": [
    "---\n",
    "# Math 3 - check if a number is prime"
   ]
  },
  {
   "cell_type": "code",
   "execution_count": 67,
   "metadata": {},
   "outputs": [
    {
     "data": {
      "text/plain": [
       "23"
      ]
     },
     "execution_count": 67,
     "metadata": {},
     "output_type": "execute_result"
    }
   ],
   "source": [
    "N = 23\n",
    "N"
   ]
  },
  {
   "cell_type": "code",
   "execution_count": 68,
   "metadata": {},
   "outputs": [
    {
     "name": "stdout",
     "output_type": "stream",
     "text": [
      "23 is prime\n"
     ]
    }
   ],
   "source": [
    "if N <= 1:\n",
    "    raise ValueError(\"N must be greater than 1.\")\n",
    "if N == 2:\n",
    "    print(N, \"is prime\")\n",
    "if N % 2 == 0:\n",
    "    print(N, \"is not prime\")\n",
    "else:\n",
    "    for i in range(3, N, 2):\n",
    "        if N % i == 0:\n",
    "            print(N, \"is not prime\")\n",
    "            break\n",
    "    else:\n",
    "        print(N, \"is prime\")"
   ]
  },
  {
   "cell_type": "code",
   "execution_count": 69,
   "metadata": {},
   "outputs": [
    {
     "name": "stdout",
     "output_type": "stream",
     "text": [
      "23 is prime\n"
     ]
    }
   ],
   "source": [
    "import math\n",
    "\n",
    "if N <= 1:\n",
    "    raise ValueError(\"N must be greater than 1.\")\n",
    "if N == 2:\n",
    "    print(N, \"is prime\")\n",
    "if N % 2 == 0:\n",
    "    print(N, \"is not prime\")\n",
    "else:\n",
    "    for i in range(3, math.isqrt(N)+1, 2):\n",
    "        if N % i == 0:\n",
    "            print(N, \"is not prime\")\n",
    "            break\n",
    "    else:\n",
    "        print(N, \"is prime\")"
   ]
  },
  {
   "cell_type": "markdown",
   "metadata": {},
   "source": [
    "# Math 3 - Print all prime numbers from 1 to N"
   ]
  },
  {
   "cell_type": "code",
   "execution_count": 75,
   "metadata": {},
   "outputs": [
    {
     "data": {
      "text/plain": [
       "24"
      ]
     },
     "execution_count": 75,
     "metadata": {},
     "output_type": "execute_result"
    }
   ],
   "source": [
    "N = 24\n",
    "N"
   ]
  },
  {
   "cell_type": "code",
   "execution_count": 76,
   "metadata": {},
   "outputs": [
    {
     "name": "stdout",
     "output_type": "stream",
     "text": [
      "2 3 5 7 11 13 17 19 23 "
     ]
    }
   ],
   "source": [
    "for n in range(2, N+1):\n",
    "    is_prime = True\n",
    "    for i in range(2, n):\n",
    "        if n % i == 0:\n",
    "            is_prime = False\n",
    "            break\n",
    "    if is_prime:\n",
    "        print(n, end=' ')"
   ]
  },
  {
   "cell_type": "code",
   "execution_count": 77,
   "metadata": {},
   "outputs": [
    {
     "name": "stdout",
     "output_type": "stream",
     "text": [
      "2 3 5 7 11 13 17 19 23 "
     ]
    }
   ],
   "source": [
    "# sieve of eratosthenes\n",
    "is_prime = [True] * (N+1)\n",
    "is_prime[0], is_prime[1] = False, False\n",
    "\n",
    "for i in range(2, int(math.isqrt(N)) + 1):\n",
    "    if is_prime[i]:\n",
    "        for j in range(i*i, N+1, i):\n",
    "            is_prime[j] = False\n",
    "\n",
    "for n in range(2, N+1):\n",
    "    if is_prime[n]:\n",
    "        print(n, end=' ')"
   ]
  },
  {
   "cell_type": "markdown",
   "metadata": {},
   "source": [
    "# Math 3 - Small prime factor"
   ]
  },
  {
   "cell_type": "code",
   "execution_count": 78,
   "metadata": {},
   "outputs": [
    {
     "data": {
      "text/plain": [
       "10"
      ]
     },
     "execution_count": 78,
     "metadata": {},
     "output_type": "execute_result"
    }
   ],
   "source": [
    "N = 10\n",
    "N"
   ]
  },
  {
   "cell_type": "code",
   "execution_count": 86,
   "metadata": {},
   "outputs": [
    {
     "name": "stdout",
     "output_type": "stream",
     "text": [
      "2 :  2\n",
      "3 :  3\n",
      "4 :  2\n",
      "5 :  5\n",
      "6 :  2\n",
      "7 :  7\n",
      "8 :  2\n",
      "9 :  3\n",
      "10 :  2\n"
     ]
    }
   ],
   "source": [
    "spf = [0] * (N+1)\n",
    "\n",
    "for i in range(2, N+1):\n",
    "    if spf[i] == 0:\n",
    "        spf[i] = i\n",
    "        for j in range(i*i, N+1, i):\n",
    "            if spf[j] == 0:\n",
    "                spf[j] = i\n",
    "\n",
    "for i in range(2, N+1):\n",
    "    print(i, ': ', spf[i], end='\\n')"
   ]
  },
  {
   "cell_type": "markdown",
   "metadata": {},
   "source": [
    "# Math 3 - Total number of factors"
   ]
  },
  {
   "cell_type": "code",
   "execution_count": 96,
   "metadata": {},
   "outputs": [
    {
     "data": {
      "text/plain": [
       "8"
      ]
     },
     "execution_count": 96,
     "metadata": {},
     "output_type": "execute_result"
    }
   ],
   "source": [
    "N = 8\n",
    "N"
   ]
  },
  {
   "cell_type": "code",
   "execution_count": 98,
   "metadata": {},
   "outputs": [
    {
     "name": "stdout",
     "output_type": "stream",
     "text": [
      "1\n"
     ]
    }
   ],
   "source": [
    "# find total number of factors in N\n",
    "\n",
    "# initialize result\n",
    "result = 1\n",
    "\n",
    "# find prime factors\n",
    "while N % 2 == 0:\n",
    "    result = result + 1\n",
    "    N = N // 2\n",
    "\n",
    "for i in range(3, int(math.sqrt(N)) + 1, 2):\n",
    "    while N % i == 0:\n",
    "        result = result + 1\n",
    "        N = N // i\n",
    "\n",
    "# if N is a prime number\n",
    "if N > 2:\n",
    "    result = result + 1\n",
    "\n",
    "print(result)"
   ]
  },
  {
   "cell_type": "code",
   "execution_count": null,
   "metadata": {},
   "outputs": [],
   "source": []
  }
 ],
 "metadata": {
  "kernelspec": {
   "display_name": "venv",
   "language": "python",
   "name": "python3"
  },
  "language_info": {
   "codemirror_mode": {
    "name": "ipython",
    "version": 3
   },
   "file_extension": ".py",
   "mimetype": "text/x-python",
   "name": "python",
   "nbconvert_exporter": "python",
   "pygments_lexer": "ipython3",
   "version": "3.12.6"
  }
 },
 "nbformat": 4,
 "nbformat_minor": 2
}
