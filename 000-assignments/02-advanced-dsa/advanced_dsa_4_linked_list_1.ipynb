{
 "cells": [
  {
   "cell_type": "markdown",
   "metadata": {},
   "source": [
    "# Linked List"
   ]
  },
  {
   "cell_type": "code",
   "execution_count": 1,
   "metadata": {},
   "outputs": [],
   "source": [
    "class Node:\n",
    "    def __init__(self, data):\n",
    "        self.data = data\n",
    "        self.next = None"
   ]
  },
  {
   "cell_type": "code",
   "execution_count": 36,
   "metadata": {},
   "outputs": [],
   "source": [
    "class LinkedList:\n",
    "    def __init__(self):\n",
    "        self.head = None\n",
    "    \n",
    "    # append - add to the end\n",
    "    # TC - O(n)\n",
    "    # SC - O(1)\n",
    "    def append(self, val):\n",
    "        if self.head == None:\n",
    "            self.head = Node(val)\n",
    "            return\n",
    "        current = self.head\n",
    "        while current.next != None:\n",
    "            current = current.next\n",
    "        current.next = Node(val)\n",
    "\n",
    "    # insert - at a particular position\n",
    "    # TC - O(n)\n",
    "    # SC - O(1)\n",
    "    def insert(self, val, pos):\n",
    "        newNode = Node(val)\n",
    "        if pos == 0:\n",
    "            newNode.next = self.head\n",
    "            self.head = newNode\n",
    "            return\n",
    "        current = self.head\n",
    "        count = 0\n",
    "        while current != None:\n",
    "            if count == pos - 1:\n",
    "                newNode.next = current.next\n",
    "                current.next = newNode\n",
    "                return\n",
    "            count += 1\n",
    "            current = current.next\n",
    "    \n",
    "    # getKthElement - get the kth element from the end\n",
    "    # TC - O(n)\n",
    "    # SC - O(1)\n",
    "    def getKthElement(self, k):\n",
    "        current = self.head\n",
    "        count = 0\n",
    "        while current != None:\n",
    "            if count == k:\n",
    "                return current.data\n",
    "            count += 1\n",
    "            current = current.next\n",
    "        return -1\n",
    "\n",
    "    # search - find the value in the linked list\n",
    "    # TC - O(n)\n",
    "    # SC - O(1)\n",
    "    def search(self, val):\n",
    "        current = self.head\n",
    "        while current != None:\n",
    "            if current.data == val:\n",
    "                return True\n",
    "            current = current.next\n",
    "        return False\n",
    "\n",
    "    # printList - print the linked list\n",
    "    # TC - O(n)\n",
    "    # SC - O(1)\n",
    "    def printList(self):\n",
    "        current = self.head\n",
    "        while current:\n",
    "            print(current.data, end=\" -> \")\n",
    "            current = current.next\n",
    "        print(\"NULL\")"
   ]
  },
  {
   "cell_type": "code",
   "execution_count": 37,
   "metadata": {},
   "outputs": [
    {
     "name": "stdout",
     "output_type": "stream",
     "text": [
      "1 -> 2 -> 3 -> 4 -> 5 -> NULL\n",
      "\n",
      "2nd element is =>  3\n",
      "5th element is =>  -1\n",
      "\n",
      "3 is present? =>  True\n",
      "6 is present? =>  False\n",
      "\n",
      "1 -> 2 -> 6 -> 3 -> 4 -> 5 -> NULL\n",
      "7 -> 1 -> 2 -> 6 -> 3 -> 4 -> 5 -> NULL\n",
      "\n"
     ]
    }
   ],
   "source": [
    "linked_list = LinkedList()\n",
    "\n",
    "linked_list.append(1)\n",
    "linked_list.append(2)\n",
    "linked_list.append(3)\n",
    "linked_list.append(4)\n",
    "linked_list.append(5)\n",
    "\n",
    "linked_list.printList()\n",
    "print()\n",
    "print('2nd element is => ',linked_list.getKthElement(2))\n",
    "print('5th element is => ',linked_list.getKthElement(5))\n",
    "print()\n",
    "print(3, 'is present? => ',linked_list.search(3))\n",
    "print(6, 'is present? => ',linked_list.search(6))\n",
    "print()\n",
    "\n",
    "linked_list.insert(6, 2)\n",
    "linked_list.printList()\n",
    "linked_list.insert(7, 0)\n",
    "linked_list.printList()\n",
    "print()\n"
   ]
  },
  {
   "cell_type": "code",
   "execution_count": null,
   "metadata": {},
   "outputs": [],
   "source": []
  }
 ],
 "metadata": {
  "kernelspec": {
   "display_name": "venv",
   "language": "python",
   "name": "python3"
  },
  "language_info": {
   "codemirror_mode": {
    "name": "ipython",
    "version": 3
   },
   "file_extension": ".py",
   "mimetype": "text/x-python",
   "name": "python",
   "nbconvert_exporter": "python",
   "pygments_lexer": "ipython3",
   "version": "3.12.6"
  }
 },
 "nbformat": 4,
 "nbformat_minor": 2
}
