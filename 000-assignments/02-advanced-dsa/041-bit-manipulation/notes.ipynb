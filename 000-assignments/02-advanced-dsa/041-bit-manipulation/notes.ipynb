{
 "cells": [
  {
   "cell_type": "markdown",
   "metadata": {},
   "source": [
    "# #1"
   ]
  },
  {
   "cell_type": "code",
   "execution_count": 2,
   "metadata": {},
   "outputs": [],
   "source": [
    "# for given number N and i, check if ith bit is set or not\n",
    "def check_bit(N, i):\n",
    "    return ((N >> i)&1==1)"
   ]
  },
  {
   "cell_type": "code",
   "execution_count": 4,
   "metadata": {},
   "outputs": [
    {
     "name": "stdout",
     "output_type": "stream",
     "text": [
      "True\n",
      "False\n",
      "True\n"
     ]
    }
   ],
   "source": [
    "print(check_bit(5, 2))\n",
    "print(check_bit(5, 1))\n",
    "print(check_bit(5, 0))"
   ]
  },
  {
   "cell_type": "markdown",
   "metadata": {},
   "source": [
    "# #2"
   ]
  },
  {
   "cell_type": "code",
   "execution_count": 5,
   "metadata": {},
   "outputs": [],
   "source": [
    "# given N elements, every element repeats twice except one, find the unique element\n",
    "def unique_element(arr):\n",
    "    res = 0\n",
    "    for i in arr:\n",
    "        res = res ^ i\n",
    "    return res"
   ]
  },
  {
   "cell_type": "code",
   "execution_count": 7,
   "metadata": {},
   "outputs": [
    {
     "name": "stdout",
     "output_type": "stream",
     "text": [
      "4\n",
      "5\n",
      "6\n"
     ]
    }
   ],
   "source": [
    "print(unique_element([1, 2, 3, 4, 1, 2, 3]))\n",
    "print(unique_element([1, 2, 3, 4, 1, 2, 3, 4, 5]))\n",
    "print(unique_element([1, 2, 3, 4, 1, 2, 3, 4, 5, 5, 6]))"
   ]
  },
  {
   "cell_type": "markdown",
   "metadata": {},
   "source": [
    "# #3"
   ]
  },
  {
   "cell_type": "code",
   "execution_count": 8,
   "metadata": {},
   "outputs": [],
   "source": [
    "# every element repeats thrice except one, find the unique element\n",
    "def unique_element2(arr):\n",
    "    ans = 0\n",
    "    for i in range(32):\n",
    "        c = 0\n",
    "        for j in arr:\n",
    "            if check_bit(j, i):\n",
    "                c += 1\n",
    "        \n",
    "        if c % 3 != 0:\n",
    "            ans = ans | (1 << i)\n",
    "    return ans"
   ]
  },
  {
   "cell_type": "code",
   "execution_count": 10,
   "metadata": {},
   "outputs": [
    {
     "name": "stdout",
     "output_type": "stream",
     "text": [
      "4\n",
      "5\n"
     ]
    }
   ],
   "source": [
    "print(unique_element2([1, 2, 3, 4, 1, 2, 3, 1, 2, 3]))\n",
    "print(unique_element2([1, 2, 3, 4, 1, 2, 3, 4, 5, 1, 2, 5, 3]))"
   ]
  },
  {
   "cell_type": "markdown",
   "metadata": {},
   "source": [
    "# #4"
   ]
  },
  {
   "cell_type": "code",
   "execution_count": 26,
   "metadata": {},
   "outputs": [],
   "source": [
    "# every element repeats 3 times and 2 elements occuring once, find the unique elements\n",
    "def unique_element3(arr):\n",
    "    v = 0\n",
    "    for i in arr:\n",
    "        v ^= i\n",
    "    # v is xor of 2 unique elements\n",
    "    pos = -1\n",
    "    for i in range(32):\n",
    "        if check_bit(v, i):\n",
    "            pos = i\n",
    "            break\n",
    "    # pos is the position of unique set bit in v (xor of 2 unique elements), e.g.: 1 in 1 0 0 0\n",
    "    # now we will divide the array into 2 parts, one with set bit at pos and other with unset bit at pos\n",
    "    # and xor of each part will give the unique elements\n",
    "    set = 0\n",
    "    unset = 0\n",
    "    for i in arr:\n",
    "        if check_bit(i, pos):\n",
    "            set ^= i\n",
    "        else:\n",
    "            unset ^= i\n",
    "    return set, unset"
   ]
  },
  {
   "cell_type": "code",
   "execution_count": 28,
   "metadata": {},
   "outputs": [
    {
     "name": "stdout",
     "output_type": "stream",
     "text": [
      "(3, 4)\n",
      "(1, 2)\n"
     ]
    }
   ],
   "source": [
    "print(unique_element3([1, 2, 3, 1,2,4]))\n",
    "print(unique_element3([1, 2]))"
   ]
  },
  {
   "cell_type": "markdown",
   "metadata": {},
   "source": [
    "# #5"
   ]
  },
  {
   "cell_type": "code",
   "execution_count": null,
   "metadata": {},
   "outputs": [],
   "source": [
    "# Given N arr elements, choose two indices i and j such that\n",
    "# i != j and arr[i] & arr[j] is maximum\n",
    "def max_and(arr):\n",
    "    "
   ]
  }
 ],
 "metadata": {
  "kernelspec": {
   "display_name": ".venv",
   "language": "python",
   "name": "python3"
  },
  "language_info": {
   "codemirror_mode": {
    "name": "ipython",
    "version": 3
   },
   "file_extension": ".py",
   "mimetype": "text/x-python",
   "name": "python",
   "nbconvert_exporter": "python",
   "pygments_lexer": "ipython3",
   "version": "3.11.5"
  },
  "orig_nbformat": 4
 },
 "nbformat": 4,
 "nbformat_minor": 2
}
