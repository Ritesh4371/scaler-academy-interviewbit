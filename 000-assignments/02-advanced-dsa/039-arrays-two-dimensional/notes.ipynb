{
 "cells": [
  {
   "cell_type": "markdown",
   "metadata": {},
   "source": [
    "# #1"
   ]
  },
  {
   "cell_type": "code",
   "execution_count": 1,
   "metadata": {},
   "outputs": [
    {
     "name": "stdout",
     "output_type": "stream",
     "text": [
      "3 2 4 1 \n",
      "-1 4 3 2 \n",
      "2 7 6 3 \n"
     ]
    }
   ],
   "source": [
    "a = [[3,2,4,1],[-1,4,3,2],[2,7,6,3]]\n",
    "\n",
    "for i in range(len(a)):\n",
    "    for j in range(len(a[i])):\n",
    "        print(a[i][j], end=' ')\n",
    "    print()"
   ]
  },
  {
   "cell_type": "code",
   "execution_count": 2,
   "metadata": {},
   "outputs": [
    {
     "data": {
      "text/plain": [
       "[[3, 5, 9, 10], [2, 8, 15, 18], [4, 17, 30, 36]]"
      ]
     },
     "execution_count": 2,
     "metadata": {},
     "output_type": "execute_result"
    }
   ],
   "source": [
    "# find pfsumarray of a\n",
    "# pfsumarray = [[3,5,9,10],[2,8,15,18],[4,17,30,36]]\n",
    "# pfsumarray[i][j] = sum of all elements in a from (0,0) to (i,j)\n",
    "for i in range(1,len(a)):\n",
    "    a[i][0] += a[i-1][0]\n",
    "for j in range(1,len(a[0])):\n",
    "    a[0][j] += a[0][j-1]\n",
    "for i in range(1,len(a)):\n",
    "    for j in range(1,len(a[0])):\n",
    "        a[i][j] += a[i-1][j] + a[i][j-1] - a[i-1][j-1]\n",
    "a"
   ]
  },
  {
   "cell_type": "code",
   "execution_count": 3,
   "metadata": {},
   "outputs": [
    {
     "data": {
      "text/plain": [
       "[[1, 1], [2, 3]]"
      ]
     },
     "execution_count": 3,
     "metadata": {},
     "output_type": "execute_result"
    }
   ],
   "source": [
    "q = [[1,1],[2,3]]\n",
    "q"
   ]
  },
  {
   "cell_type": "code",
   "execution_count": 4,
   "metadata": {},
   "outputs": [
    {
     "data": {
      "text/plain": [
       "25"
      ]
     },
     "execution_count": 4,
     "metadata": {},
     "output_type": "execute_result"
    }
   ],
   "source": [
    "sub_arr_sum = a[q[1][0]][q[1][1]] - a[q[0][0]-1][q[1][1]] - a[q[1][0]][q[0][1]-1] + a[q[0][0]-1][q[0][1]-1]\n",
    "sub_arr_sum"
   ]
  },
  {
   "cell_type": "markdown",
   "metadata": {},
   "source": [
    "# #2"
   ]
  },
  {
   "cell_type": "code",
   "execution_count": 5,
   "metadata": {},
   "outputs": [
    {
     "data": {
      "text/plain": [
       "[[3, 1], [-1, -2], [2, 4]]"
      ]
     },
     "execution_count": 5,
     "metadata": {},
     "output_type": "execute_result"
    }
   ],
   "source": [
    "a = [[3,1],[-1,-2],[2,4]]\n",
    "a"
   ]
  },
  {
   "cell_type": "code",
   "execution_count": 7,
   "metadata": {},
   "outputs": [
    {
     "name": "stdout",
     "output_type": "stream",
     "text": [
      "1 1 3 2 6\n",
      "1 2 3 1 6\n",
      "2 1 2 2 8\n",
      "2 2 2 1 8\n",
      "3 1 1 2 6\n",
      "3 2 1 1 6\n"
     ]
    },
    {
     "data": {
      "text/plain": [
       "36"
      ]
     },
     "execution_count": 7,
     "metadata": {},
     "output_type": "execute_result"
    }
   ],
   "source": [
    "ans = 0\n",
    "n = len(a)\n",
    "m = len(a[0])\n",
    "for i in range(len(a)):\n",
    "    for j in range(len(a[i])):\n",
    "        contribution = (i+1) * (j+1) * (n-i) * (m-j)\n",
    "        print(i+1, j+1, n-i, m-j, contribution)\n",
    "        ans = ans + (contribution * a[i][j])\n",
    "ans"
   ]
  },
  {
   "cell_type": "code",
   "execution_count": null,
   "metadata": {},
   "outputs": [],
   "source": []
  }
 ],
 "metadata": {
  "kernelspec": {
   "display_name": ".venv",
   "language": "python",
   "name": "python3"
  },
  "language_info": {
   "codemirror_mode": {
    "name": "ipython",
    "version": 3
   },
   "file_extension": ".py",
   "mimetype": "text/x-python",
   "name": "python",
   "nbconvert_exporter": "python",
   "pygments_lexer": "ipython3",
   "version": "3.11.7"
  },
  "orig_nbformat": 4
 },
 "nbformat": 4,
 "nbformat_minor": 2
}
