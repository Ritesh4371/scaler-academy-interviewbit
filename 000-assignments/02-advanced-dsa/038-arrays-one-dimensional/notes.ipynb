{
 "cells": [
  {
   "cell_type": "markdown",
   "metadata": {},
   "source": [
    "# #1"
   ]
  },
  {
   "cell_type": "code",
   "execution_count": 29,
   "metadata": {},
   "outputs": [],
   "source": [
    "Q = [[3,4], [1,3], [4,-2]]"
   ]
  },
  {
   "cell_type": "code",
   "execution_count": 30,
   "metadata": {},
   "outputs": [],
   "source": [
    "arr = [0,0,0,0,0,0,0]"
   ]
  },
  {
   "cell_type": "code",
   "execution_count": 31,
   "metadata": {},
   "outputs": [
    {
     "name": "stdout",
     "output_type": "stream",
     "text": [
      "3 4\n",
      "[0, 0, 0, 4, 0, 0, 0]\n",
      "1 3\n",
      "[0, 3, 0, 4, 0, 0, 0]\n",
      "4 -2\n",
      "[0, 3, 0, 4, -2, 0, 0]\n"
     ]
    }
   ],
   "source": [
    "# range over Q\n",
    "for i in range(len(Q)):\n",
    "    idx = Q[i][0]\n",
    "    val = Q[i][1]\n",
    "    print(idx, val)\n",
    "    arr[idx] += val\n",
    "    print(arr)"
   ]
  },
  {
   "cell_type": "code",
   "execution_count": 32,
   "metadata": {},
   "outputs": [
    {
     "data": {
      "text/plain": [
       "[0, 3, 0, 4, -2, 0, 0]"
      ]
     },
     "execution_count": 32,
     "metadata": {},
     "output_type": "execute_result"
    }
   ],
   "source": [
    "arr"
   ]
  },
  {
   "cell_type": "code",
   "execution_count": 33,
   "metadata": {},
   "outputs": [],
   "source": [
    "pf = [0,0,0,0,0,0,0]\n",
    "pf[0] = arr[0]\n",
    "for i in range(1,len(arr)):\n",
    "    pf[i] = pf[i-1] + arr[i]"
   ]
  },
  {
   "cell_type": "code",
   "execution_count": 34,
   "metadata": {},
   "outputs": [
    {
     "data": {
      "text/plain": [
       "[0, 3, 3, 7, 5, 5, 5]"
      ]
     },
     "execution_count": 34,
     "metadata": {},
     "output_type": "execute_result"
    }
   ],
   "source": [
    "pf"
   ]
  },
  {
   "cell_type": "markdown",
   "metadata": {},
   "source": [
    "# #2"
   ]
  },
  {
   "cell_type": "code",
   "execution_count": 42,
   "metadata": {},
   "outputs": [],
   "source": [
    "\n",
    "Q = [[3,6,3],[2,7,-3],[1,9,4]]"
   ]
  },
  {
   "cell_type": "code",
   "execution_count": 43,
   "metadata": {},
   "outputs": [],
   "source": [
    "arr = [000]*10"
   ]
  },
  {
   "cell_type": "code",
   "execution_count": 44,
   "metadata": {},
   "outputs": [
    {
     "name": "stdout",
     "output_type": "stream",
     "text": [
      "[0, 0, 0, 3, 0, 0, 0, -3, 0, 0]\n",
      "[0, 0, -3, 3, 0, 0, 0, -3, 3, 0]\n",
      "[0, 4, -3, 3, 0, 0, 0, -3, 3, 0]\n"
     ]
    }
   ],
   "source": [
    "for i in range(len(Q)):\n",
    "    s = Q[i][0]\n",
    "    e = Q[i][1]\n",
    "    v = Q[i][2]\n",
    "    arr[s] += v\n",
    "    if e+1 < len(arr):\n",
    "        arr[e+1] -= v\n",
    "    print(arr)"
   ]
  },
  {
   "cell_type": "code",
   "execution_count": 45,
   "metadata": {},
   "outputs": [
    {
     "data": {
      "text/plain": [
       "[0, 4, -3, 3, 0, 0, 0, -3, 3, 0]"
      ]
     },
     "execution_count": 45,
     "metadata": {},
     "output_type": "execute_result"
    }
   ],
   "source": [
    "arr"
   ]
  },
  {
   "cell_type": "code",
   "execution_count": 46,
   "metadata": {},
   "outputs": [
    {
     "name": "stdout",
     "output_type": "stream",
     "text": [
      "[0, 4, 0, 0, 0, 0, 0, 0, 0, 0]\n",
      "[0, 4, 1, 0, 0, 0, 0, 0, 0, 0]\n",
      "[0, 4, 1, 4, 0, 0, 0, 0, 0, 0]\n",
      "[0, 4, 1, 4, 4, 0, 0, 0, 0, 0]\n",
      "[0, 4, 1, 4, 4, 4, 0, 0, 0, 0]\n",
      "[0, 4, 1, 4, 4, 4, 4, 0, 0, 0]\n",
      "[0, 4, 1, 4, 4, 4, 4, 1, 0, 0]\n",
      "[0, 4, 1, 4, 4, 4, 4, 1, 4, 0]\n",
      "[0, 4, 1, 4, 4, 4, 4, 1, 4, 4]\n"
     ]
    },
    {
     "data": {
      "text/plain": [
       "[0, 4, 1, 4, 4, 4, 4, 1, 4, 4]"
      ]
     },
     "execution_count": 46,
     "metadata": {},
     "output_type": "execute_result"
    }
   ],
   "source": [
    "pf = [0]*10\n",
    "pf[0] = arr[0]\n",
    "for i in range(1,len(arr)):\n",
    "    pf[i] = pf[i-1] + arr[i]\n",
    "    print(pf)\n",
    "\n",
    "pf"
   ]
  },
  {
   "cell_type": "markdown",
   "metadata": {},
   "source": [
    "# #3"
   ]
  },
  {
   "cell_type": "code",
   "execution_count": 12,
   "metadata": {},
   "outputs": [],
   "source": [
    "arr = [1,-6,3,8,4,5,2]"
   ]
  },
  {
   "cell_type": "code",
   "execution_count": 13,
   "metadata": {},
   "outputs": [],
   "source": [
    "lmax = [0]*len(arr)\n",
    "rmax = [0]*len(arr)"
   ]
  },
  {
   "cell_type": "code",
   "execution_count": 14,
   "metadata": {},
   "outputs": [
    {
     "data": {
      "text/plain": [
       "[1, 1, 3, 8, 8, 8, 8]"
      ]
     },
     "execution_count": 14,
     "metadata": {},
     "output_type": "execute_result"
    }
   ],
   "source": [
    "lmax[0] = arr[0]\n",
    "for i in range(len(arr)):\n",
    "    lmax[i] = max(arr[i], lmax[i-1])\n",
    "lmax"
   ]
  },
  {
   "cell_type": "code",
   "execution_count": 15,
   "metadata": {},
   "outputs": [
    {
     "data": {
      "text/plain": [
       "[8, 8, 8, 8, 5, 5, 2]"
      ]
     },
     "execution_count": 15,
     "metadata": {},
     "output_type": "execute_result"
    }
   ],
   "source": [
    "rmax[len(arr)-1] = arr[len(arr)-1]\n",
    "# reverse iterate over arr\n",
    "for i in range(len(arr)-2, -1, -1):\n",
    "    rmax[i] = max(arr[i], rmax[i+1])\n",
    "rmax"
   ]
  },
  {
   "cell_type": "markdown",
   "metadata": {},
   "source": [
    "# #4"
   ]
  },
  {
   "cell_type": "code",
   "execution_count": 16,
   "metadata": {},
   "outputs": [],
   "source": [
    "arr = [4,2,5,7,4,2,3,6,8,2,3]\n",
    "lmax = [0]*len(arr)\n",
    "rmax = [0]*len(arr)"
   ]
  },
  {
   "cell_type": "code",
   "execution_count": 17,
   "metadata": {},
   "outputs": [
    {
     "data": {
      "text/plain": [
       "[4, 4, 5, 7, 7, 7, 7, 7, 8, 8, 8]"
      ]
     },
     "execution_count": 17,
     "metadata": {},
     "output_type": "execute_result"
    }
   ],
   "source": [
    "lmax[0] = arr[0]\n",
    "for i in range(len(arr)):\n",
    "    lmax[i] = max(arr[i], lmax[i-1])\n",
    "lmax"
   ]
  },
  {
   "cell_type": "code",
   "execution_count": 18,
   "metadata": {},
   "outputs": [
    {
     "data": {
      "text/plain": [
       "[8, 8, 8, 8, 8, 8, 8, 8, 8, 3, 3]"
      ]
     },
     "execution_count": 18,
     "metadata": {},
     "output_type": "execute_result"
    }
   ],
   "source": [
    "rmax[len(arr)-1] = arr[len(arr)-1]\n",
    "# reverse iterate over arr\n",
    "for i in range(len(arr)-2, -1, -1):\n",
    "    rmax[i] = max(arr[i], rmax[i+1])\n",
    "rmax"
   ]
  },
  {
   "cell_type": "code",
   "execution_count": 19,
   "metadata": {},
   "outputs": [
    {
     "data": {
      "text/plain": [
       "16"
      ]
     },
     "execution_count": 19,
     "metadata": {},
     "output_type": "execute_result"
    }
   ],
   "source": [
    "water = 0\n",
    "for i in range(len(arr)):\n",
    "    mini = min(lmax[i], rmax[i])\n",
    "    ht = arr[i]\n",
    "    water += mini - ht\n",
    "\n",
    "water"
   ]
  },
  {
   "cell_type": "markdown",
   "metadata": {},
   "source": [
    "# #5"
   ]
  },
  {
   "cell_type": "code",
   "execution_count": 20,
   "metadata": {},
   "outputs": [
    {
     "data": {
      "text/plain": [
       "[2, 3, -6, 7]"
      ]
     },
     "execution_count": 20,
     "metadata": {},
     "output_type": "execute_result"
    }
   ],
   "source": [
    "arr = [2,3,-6,7]\n",
    "arr"
   ]
  },
  {
   "cell_type": "code",
   "execution_count": 21,
   "metadata": {},
   "outputs": [
    {
     "data": {
      "text/plain": [
       "-inf"
      ]
     },
     "execution_count": 21,
     "metadata": {},
     "output_type": "execute_result"
    }
   ],
   "source": [
    "import math\n",
    "sum = 0\n",
    "ans = -math.inf\n",
    "ans"
   ]
  },
  {
   "cell_type": "code",
   "execution_count": 22,
   "metadata": {},
   "outputs": [
    {
     "data": {
      "text/plain": [
       "7"
      ]
     },
     "execution_count": 22,
     "metadata": {},
     "output_type": "execute_result"
    }
   ],
   "source": [
    "for i in range(len(arr)):\n",
    "    sum += arr[i]\n",
    "    ans = max(ans, sum)\n",
    "    if sum < 0:\n",
    "        sum = 0\n",
    "ans"
   ]
  },
  {
   "cell_type": "markdown",
   "metadata": {},
   "source": [
    "Problem Description\n",
    "You are given a binary string A(i.e., with characters 0 and 1) consisting of characters A1, A2, ..., AN. In a single operation, you can choose two indices, L and R, such that 1 ≤ L ≤ R ≤ N and flip the characters AL, AL+1, ..., AR. By flipping, we mean changing character 0 to 1 and vice-versa.\n",
    "\n",
    "Your aim is to perform ATMOST one operation such that in the final string number of 1s is maximized.\n",
    "\n",
    "If you don't want to perform the operation, return an empty array. Else, return an array consisting of two elements denoting L and R. If there are multiple solutions, return the lexicographically smallest pair of L and R.\n",
    "\n",
    "NOTE: Pair (a, b) is lexicographically smaller than pair (c, d) if a < c or, if a == c and b < d."
   ]
  },
  {
   "cell_type": "markdown",
   "metadata": {},
   "source": [
    "Problem Constraints\n",
    "1 <= size of string <= 100000\n",
    "\n",
    "\n",
    "\n",
    "Input Format\n",
    "First and only argument is a string A.\n",
    "\n",
    "\n",
    "\n",
    "Output Format\n",
    "Return an array of integers denoting the answer.\n",
    "\n",
    "\n",
    "\n",
    "Example Input\n",
    "Input 1:\n",
    "\n",
    "A = \"010\"\n",
    "Input 2:\n",
    "\n",
    "A = \"111\"\n",
    "\n",
    "\n",
    "Example Output\n",
    "Output 1:\n",
    "\n",
    "[1, 1]\n",
    "Output 2:\n",
    "\n",
    "[]\n",
    "\n",
    "\n",
    "Example Explanation\n",
    "Explanation 1:\n",
    "\n",
    "A = \"010\"\n",
    "\n",
    "Pair of [L, R] | Final string\n",
    "_______________|_____________\n",
    "[1 1]          | \"110\"\n",
    "[1 2]          | \"100\"\n",
    "[1 3]          | \"101\"\n",
    "[2 2]          | \"000\"\n",
    "[2 3]          | \"001\"\n",
    "\n",
    "We see that two pairs [1, 1] and [1, 3] give same number of 1s in final string. So, we return [1, 1].\n",
    "Explanation 2:\n",
    "\n",
    "No operation can give us more than three 1s in final string. So, we return empty array [].\n"
   ]
  },
  {
   "cell_type": "code",
   "execution_count": 23,
   "metadata": {},
   "outputs": [
    {
     "data": {
      "text/plain": [
       "[1, 1]"
      ]
     },
     "execution_count": 23,
     "metadata": {},
     "output_type": "execute_result"
    }
   ],
   "source": [
    "class Solution:\n",
    "    # @param A : string\n",
    "    # @return a list of integers\n",
    "    def flip(self, A):\n",
    "        N = len(A)\n",
    "        cc = A.count('1')\n",
    "        if cc == N: return []\n",
    "\n",
    "        nums = [0] * N\n",
    "        for i in range(N):\n",
    "            if A[i] == '0':\n",
    "                nums[i] =  1\n",
    "            else:\n",
    "                nums[i] = -1\n",
    "\n",
    "        max_sum = float('-inf')\n",
    "        cur_sum = 0\n",
    "        r , l = 0 , 0\n",
    "        currL = 0\n",
    "        for i in range(len(A)):\n",
    "            cur_sum += nums[i]\n",
    "           \n",
    "            if cur_sum < 0:\n",
    "                cur_sum = 0\n",
    "                currL = i + 1\n",
    "                continue\n",
    "               \n",
    "            if cur_sum > max_sum:\n",
    "                max_sum = cur_sum\n",
    "                l = currL\n",
    "                r = i\n",
    "\n",
    "        l += 1\n",
    "        r += 1\n",
    "        return [l,r]\n",
    "\n",
    "s = Solution()\n",
    "s.flip(\"010\")"
   ]
  },
  {
   "cell_type": "code",
   "execution_count": null,
   "metadata": {},
   "outputs": [],
   "source": []
  }
 ],
 "metadata": {
  "kernelspec": {
   "display_name": ".venv",
   "language": "python",
   "name": "python3"
  },
  "language_info": {
   "codemirror_mode": {
    "name": "ipython",
    "version": 3
   },
   "file_extension": ".py",
   "mimetype": "text/x-python",
   "name": "python",
   "nbconvert_exporter": "python",
   "pygments_lexer": "ipython3",
   "version": "3.11.7"
  },
  "orig_nbformat": 4
 },
 "nbformat": 4,
 "nbformat_minor": 2
}
